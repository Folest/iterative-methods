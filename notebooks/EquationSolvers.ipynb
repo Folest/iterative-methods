{
  "cells": [
    {
      "cell_type": "markdown",
      "metadata": {
        "collapsed": true,
        "pycharm": {
          "name": "#%% md\n"
        }
      },
      "source": "# Linear equation system solving techniques comparison\n\n"
    },
    {
      "cell_type": "code",
      "execution_count": 1,
      "outputs": [],
      "source": "import numpy as np\nimport math\n",
      "metadata": {
        "pycharm": {
          "metadata": false,
          "name": "#%% \n",
          "is_executing": false
        }
      }
    },
    {
      "cell_type": "markdown",
      "source": "\u003ch4\u003e \n    \u003ci\u003e\n        index \u003d 172110 \u003c/br\u003e\n        c \u003d 1\n        \u003c/br\u003e\n        d \u003d 0\n        \u003c/br\u003e\n        e \u003d 1 \n        \u003c/br\u003e\n        f \u003d 2\n        \u003c/br\u003e\n        9cd \u003d 910\n    \u003c/i\u003e\n\u003c/h4\u003e\n\n**Exercise A**\n",
      "metadata": {
        "pycharm": {
          "metadata": false,
          "name": "#%% md\n"
        }
      }
    },
    {
      "cell_type": "code",
      "execution_count": 2,
      "outputs": [],
      "source": "N \u003d 910\nf \u003d 2\ne \u003d 1\n\na1 \u003d 5 + e\na2 \u003d -1\na3 \u003d a2 \n\niter_limit \u003d 5_000",
      "metadata": {
        "pycharm": {
          "metadata": false,
          "name": "#%%\n",
          "is_executing": false
        }
      }
    },
    {
      "cell_type": "markdown",
      "source": "\u003ch4\u003eHelper function\u003c/h4\u003e\n",
      "metadata": {
        "pycharm": {
          "metadata": false,
          "name": "#%% md\n"
        }
      }
    },
    {
      "cell_type": "code",
      "execution_count": 3,
      "outputs": [],
      "source": "def striped_matrix_value(x:int, y:int) -\u003e float:\n    if x \u003d\u003d y:\n        return a1\n    if x \u003d\u003d y - 1:\n        return a2\n    if x \u003d\u003d y - 2:\n        return a3\n    \n    if x \u003d\u003d y + 1:\n        return a2\n    if x \u003d\u003d y + 2:\n        return a3\n    return 0\n\n",
      "metadata": {
        "pycharm": {
          "metadata": false,
          "name": "#%%\n",
          "is_executing": false
        }
      }
    },
    {
      "cell_type": "markdown",
      "source": "\u003ch4\u003e\nMatrix initialization\n\u003c/h4\u003e\n",
      "metadata": {
        "pycharm": {
          "metadata": false
        }
      }
    },
    {
      "cell_type": "code",
      "execution_count": 4,
      "outputs": [],
      "source": "B \u003d np.ndarray(shape\u003d(N, 1), dtype\u003dfloat)\nfor i in range(N):\n    B[i] \u003d math.sin(i * (f + 1))\n        \nA \u003d np.ndarray(shape\u003d(N, N), dtype\u003dfloat)\nfor i in range(N):\n    for j in range(N):\n        A[i][j] \u003d striped_matrix_value(i,j)\n\n# Solution matrix\nx \u003d np.ndarray(shape\u003d(N, 1), dtype\u003dfloat)\nfor i in range(N):\n    x[i] \u003d 0\n",
      "metadata": {
        "pycharm": {
          "metadata": false,
          "name": "#%%\n",
          "is_executing": false
        }
      }
    },
    {
      "cell_type": "markdown",
      "source": "**Exercise B**\n\n\u003ch3\u003eJacobi\u0027s method naive way\u003c/h3\u003e",
      "metadata": {
        "pycharm": {
          "metadata": false,
          "name": "#%% md\n"
        }
      }
    },
    {
      "cell_type": "code",
      "execution_count": 5,
      "outputs": [],
      "source": "def jacobis_next_iteration(matrix: np.ndarray, b_vec: np.ndarray, results: np.ndarray) -\u003e np.ndarray:\n    new_result: np.ndarray \u003d np.ndarray(shape\u003d(results.shape[0],1))\n    for i in range(matrix.shape[0]):\n        # Copy of the i-th equation\n        eq \u003d matrix[i].copy()\n        # The coefficient of the x which we\u0027re calculating new value for\n        curr_x_coeff \u003d eq[i]\n        # starting with the opposite of the excitement vector element\n        new_x \u003d - b_vec[i]\n        for j in range(eq.shape[0]):\n            # for every variable except the one we\u0027re currently calculating\n            if j !\u003d i:\n                # eq[j] is the coefficient of x(j) and results[j] is the previous value of the x(j)\n                new_x +\u003d eq[j] * results[j]\n        new_result[i] \u003d new_x / -curr_x_coeff\n    return new_result\n",
      "metadata": {
        "pycharm": {
          "metadata": false,
          "name": "#%%\n",
          "is_executing": false
        }
      }
    },
    {
      "cell_type": "markdown",
      "source": "\u003ch2\u003eResidue vector second norm calculation\u003c/h2\u003e\n",
      "metadata": {
        "pycharm": {
          "metadata": false,
          "name": "#%% md\n"
        }
      }
    },
    {
      "cell_type": "code",
      "execution_count": 6,
      "outputs": [],
      "source": "def calculate_residue_vector_norm(A: np.ndarray, x: np.ndarray, B: np.ndarray):\n    n_size \u003d A.shape[0]\n    residue_norm \u003d 0.0\n    for i in range(n_size):\n        row \u003d 0.0\n        for j in range(n_size):\n            row +\u003d A[i][j] * x[j]\n        row -\u003d B[i]\n        residue_norm +\u003d row ** 2\n    return math.sqrt(residue_norm)\n    ",
      "metadata": {
        "pycharm": {
          "metadata": false,
          "name": "#%%\n",
          "is_executing": false
        }
      }
    },
    {
      "cell_type": "markdown",
      "source": "**Testing the Jacobis method on small data**",
      "metadata": {
        "pycharm": {
          "metadata": false,
          "name": "#%% md\n"
        }
      }
    },
    {
      "cell_type": "code",
      "execution_count": 7,
      "outputs": [
        {
          "name": "stdout",
          "text": [
            "x1:  [5.]  x2:  [1.14285714]\nResidue vector second norm:  20.000510197574094\nx1:  [4.92857143]  x2:  [-1.71428571]\nResidue vector second norm:  2.8793777672494802\nx1:  [6.35714286]  x2:  [-1.66326531]\nResidue vector second norm:  7.143039356276458\nx1:  [6.33163265]  x2:  [-2.68367347]\nResidue vector second norm:  1.0283492025890995\nx1:  [6.84183673]  x2:  [-2.6654519]\nResidue vector second norm:  2.5510854843844535\nx1:  [6.83272595]  x2:  [-3.02988338]\nResidue vector second norm:  0.3672675723532525\nx1:  [7.01494169]  x2:  [-3.02337568]\nResidue vector second norm:  0.9111019587087374\nx1:  [7.01168784]  x2:  [-3.15352978]\nResidue vector second norm:  0.1311669901261608\nx1:  [7.07676489]  x2:  [-3.1512056]\nResidue vector second norm:  0.32539355668168735\nx1:  [7.0756028]  x2:  [-3.19768921]\nResidue vector second norm:  0.04684535361648656\nx1:  [7.0988446]  x2:  [-3.19685914]\nResidue vector second norm:  0.11621198452917862\nx1:  [7.09842957]  x2:  [-3.21346043]\nResidue vector second norm:  0.016730483434460746\nx1:  [7.10673022]  x2:  [-3.21316398]\nResidue vector second norm:  0.041504280188997454\nx1:  [7.10658199]  x2:  [-3.21909301]\nResidue vector second norm:  0.005975172655165622\nx1:  [7.10954651]  x2:  [-3.21898714]\nResidue vector second norm:  0.014822957210355727\nx1:  [7.10949357]  x2:  [-3.22110465]\nResidue vector second norm:  0.0021339902339874072\nx1:  [7.11055232]  x2:  [-3.22106683]\nResidue vector second norm:  0.0052939132894127576\nx1:  [7.11053342]  x2:  [-3.22182309]\nResidue vector second norm:  0.0007621393692816576\nx1:  [7.11091154]  x2:  [-3.22180958]\nResidue vector second norm:  0.0018906833176474099\nx1:  [7.11090479]  x2:  [-3.22207967]\nResidue vector second norm:  0.00027219263188737645\nx1:  [7.11103984]  x2:  [-3.22207485]\nResidue vector second norm:  0.000675244042019988\nx1:  [7.11103743]  x2:  [-3.22217131]\nResidue vector second norm:  9.721165424675061e-05\nx1:  [7.11108566]  x2:  [-3.22216959]\nResidue vector second norm:  0.0002411585864377401\nx1:  [7.11108479]  x2:  [-3.22220404]\nResidue vector second norm:  3.471844794539398e-05\nx1:  [7.11110202]  x2:  [-3.22220342]\nResidue vector second norm:  8.612806658286895e-05\n"
          ],
          "output_type": "stream"
        }
      ],
      "source": "A_sm \u003d np.ndarray(shape\u003d(2,2), dtype\u003dfloat)\nA_sm[0] \u003d [2,1]\nA_sm[1] \u003d [5,7]\n\nB_sm \u003d np.array([11.0, 13.0])\n\nx_sm \u003d np.array([1.0, 1.0])\n\nfor i in range(25):\n    x_sm \u003d jacobis_next_iteration(A_sm, B_sm, x_sm)\n    print(\"x1: \",x_sm[0] , \" x2: \",x_sm[1])\n    print(\"Residue vector second norm: \",\n          calculate_residue_vector_norm(A_sm, x_sm, B_sm))\n    ",
      "metadata": {
        "pycharm": {
          "metadata": false,
          "name": "#%%\n",
          "is_executing": false
        }
      }
    },
    {
      "cell_type": "markdown",
      "source": "\n\u003ch2\u003eTesting the Jacobi\u0027s method on given data\u003c/h2\u003e\n",
      "metadata": {
        "pycharm": {
          "metadata": false,
          "name": "#%% md\n"
        }
      }
    },
    {
      "cell_type": "code",
      "execution_count": 7,
      "outputs": [
        {
          "name": "stdout",
          "text": [
            "Iterations passed:  1\n",
            "Iterations passed:  2\n",
            "Iterations passed:  3\n",
            "Iterations passed:  4\n",
            "Iterations passed:  5\n",
            "Iterations passed:  6\n",
            "Iterations passed:  7\n",
            "Iterations passed:  8\n",
            "Iterations passed:  9\n",
            "Iterations passed:  10\n",
            "Iterations passed:  11\n",
            "Iterations passed:  12\n",
            "Iterations passed:  13\n",
            "Iterations passed:  14\n",
            "Iterations passed:  15\n",
            "Iterations passed:  16\n",
            "Iterations passed:  17\n",
            "Iterations passed:  18\n",
            "Residue vector second norm value:  7.956678721219851e-07\nIteration count:  18\n"
          ],
          "output_type": "stream"
        }
      ],
      "source": "i \u003d 0\nwhile calculate_residue_vector_norm(A, x, B) \u003e 10 ** -6 or i \u003d\u003d iter_limit:\n    i +\u003d 1\n    x \u003d jacobis_next_iteration(A, B, x)\n    if i % 1000:\n        print(\"Iterations passed: \", i)\nprint(\"Residue vector second norm value: \", calculate_residue_vector_norm(A,x, B))\nprint(\"Iteration count: \", i)\n\n    ",
      "metadata": {
        "pycharm": {
          "metadata": false,
          "name": "#%%\n",
          "is_executing": false
        }
      }
    },
    {
      "cell_type": "code",
      "execution_count": 9,
      "outputs": [
        {
          "name": "stdout",
          "text": [
            "7.956678721219851e-07\n"
          ],
          "output_type": "stream"
        }
      ],
      "source": "\nprint(calculate_residue_vector_norm(A,x, B))\n",
      "metadata": {
        "pycharm": {
          "metadata": false,
          "name": "#%%\n",
          "is_executing": false
        }
      }
    }
  ],
  "metadata": {
    "language_info": {
      "codemirror_mode": {
        "name": "ipython",
        "version": 2
      },
      "file_extension": ".py",
      "mimetype": "text/x-python",
      "name": "python",
      "nbconvert_exporter": "python",
      "pygments_lexer": "ipython2",
      "version": "2.7.6"
    },
    "kernelspec": {
      "name": "python3",
      "language": "python",
      "display_name": "Python 3"
    }
  },
  "nbformat": 4,
  "nbformat_minor": 0
}