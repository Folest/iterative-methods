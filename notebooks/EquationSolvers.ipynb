{
  "cells": [
    {
      "cell_type": "markdown",
      "metadata": {
        "collapsed": true,
        "pycharm": {
          "name": "#%% md\n"
        }
      },
      "source": "# Linear equation system solving techniques comparison\n\n"
    },
    {
      "cell_type": "code",
      "execution_count": 2,
      "outputs": [],
      "source": "import numpy as np\nimport math as mt\n",
      "metadata": {
        "pycharm": {
          "metadata": false,
          "name": "#%% \n",
          "is_executing": false
        }
      }
    },
    {
      "cell_type": "markdown",
      "source": "\u003ch4\u003e\n    \u003ci\u003e\n        index \u003d 172110 \u003c/br\u003e\n        c \u003d 1\n        \u003c/br\u003e\n        d \u003d 0\n        \u003c/br\u003e\n        e \u003d 1 \n        \u003c/br\u003e\n        f \u003d 2\n        \u003c/br\u003e\n        9cd \u003d 910\n    \u003c/i\u003e\n\u003c/h4\u003e\n\n**Exercise A**\n",
      "metadata": {
        "pycharm": {
          "metadata": false,
          "name": "#%% md\n"
        }
      }
    },
    {
      "cell_type": "code",
      "execution_count": 1,
      "outputs": [],
      "source": "N \u003d 910\nf \u003d 2\ne \u003d 1\n\na1 \u003d 5 + e\na2 \u003d -1\na3 \u003d a2 \n\niter_limit \u003d 1_000_000",
      "metadata": {
        "pycharm": {
          "metadata": false,
          "name": "#%%\n",
          "is_executing": false
        }
      }
    },
    {
      "cell_type": "markdown",
      "source": "\u003ch4\u003eHelper function\u003c/h4\u003e\n",
      "metadata": {
        "pycharm": {
          "metadata": false,
          "name": "#%% md\n"
        }
      }
    },
    {
      "cell_type": "code",
      "execution_count": 3,
      "outputs": [],
      "source": "def striped_matrix_value(x:int, y:int) -\u003e float:\n    if x \u003d\u003d y:\n        return a1\n    if x \u003d\u003d y - 1:\n        return a2\n    if x \u003d\u003d y - 2:\n        return a3\n    \n    if x \u003d\u003d y + 1:\n        return a2\n    if x \u003d\u003d y + 2:\n        return a3\n    return 0\n\n",
      "metadata": {
        "pycharm": {
          "metadata": false,
          "name": "#%%\n",
          "is_executing": false
        }
      }
    },
    {
      "cell_type": "markdown",
      "source": "\u003ch4\u003e\nMatrix initialization\n\u003c/h4\u003e\n",
      "metadata": {
        "pycharm": {
          "metadata": false
        }
      }
    },
    {
      "cell_type": "code",
      "execution_count": 12,
      "outputs": [],
      "source": "B \u003d np.ndarray(shape\u003d(N, 1), dtype\u003dfloat)\nfor i in range(N):\n    B[i] \u003d mt.sin(i * (f + 1))\n        \nA \u003d np.ndarray(shape\u003d(N, N), dtype\u003dfloat)\nfor i in range(N):\n    for j in range(N):\n        A[i][j] \u003d striped_matrix_value(i,j)\n\n# Solution matrix\nx \u003d np.ndarray(shape\u003d(N, 1), dtype\u003dfloat)\nfor i in range(N):\n    x[i] \u003d 0\n",
      "metadata": {
        "pycharm": {
          "metadata": false,
          "name": "#%%\n",
          "is_executing": false
        }
      }
    },
    {
      "cell_type": "markdown",
      "source": "**Exercise B**\n\n\u003ch3\u003eJacobi\u0027s method naive way\u003c/h3\u003e",
      "metadata": {
        "pycharm": {
          "metadata": false,
          "name": "#%% md\n"
        }
      }
    },
    {
      "cell_type": "code",
      "execution_count": 9,
      "outputs": [],
      "source": "def jacobis_next_iteration(matrix: np.ndarray, b_vec: np.ndarray, results: np.ndarray) -\u003e np.ndarray:\n    new_result: np.ndarray \u003d np.ndarray(shape\u003d(results.shape[0],1))\n    for i in range(matrix.shape[0]):\n        # Copy of the i-th equation\n        eq \u003d matrix[i].copy()\n        # The coefficient of the x which we\u0027re calculating new value for\n        curr_x_coeff \u003d eq[i]\n        # starting with the opposite of the excitement vector element\n        new_x \u003d - b_vec[i]\n        for j in range(eq.shape[0]):\n            # for every variable except the one we\u0027re currently calculating\n            if j !\u003d i:\n                # eq[j] is the coefficient of x(j) and results[j] is the previous value of the x(j)\n                new_x +\u003d eq[j] * results[j]\n        new_result[i] \u003d new_x / -curr_x_coeff\n    return new_result\n",
      "metadata": {
        "pycharm": {
          "metadata": false,
          "name": "#%%\n",
          "is_executing": false
        }
      }
    },
    {
      "cell_type": "markdown",
      "source": "\u003ch2\u003eResidue vector second norm calculation\u003c/h2\u003e\n",
      "metadata": {
        "pycharm": {
          "metadata": false,
          "name": "#%% md\n"
        }
      }
    },
    {
      "cell_type": "code",
      "execution_count": 10,
      "outputs": [],
      "source": "def calculate_residue_vector_sec_norm(matrix: np.ndarray, est_sol: np.ndarray, b_vec: np.ndarray) -\u003e float:\n    n_size \u003d matrix.shape[0]\n    residue_vec_norm \u003d 0.0\n    for i in range(n_size):\n        residue_vec_norm +\u003d (matrix[i][i] * est_sol[i] - b_vec[i]) ** 2\n    return mt.sqrt(residue_vec_norm)\n    \n            ",
      "metadata": {
        "pycharm": {
          "metadata": false,
          "name": "#%%\n",
          "is_executing": false
        }
      }
    },
    {
      "cell_type": "markdown",
      "source": "**Testing the Jacobis method on small data**",
      "metadata": {
        "pycharm": {
          "metadata": false,
          "name": "#%% md\n"
        }
      }
    },
    {
      "cell_type": "code",
      "execution_count": 13,
      "outputs": [
        {
          "name": "stdout",
          "text": [
            "x1:  [5.]  x2:  [1.14285714]\nx1:  [4.92857143]  x2:  [-1.71428571]\nx1:  [6.35714286]  x2:  [-1.66326531]\nx1:  [6.33163265]  x2:  [-2.68367347]\nx1:  [6.84183673]  x2:  [-2.6654519]\nx1:  [6.83272595]  x2:  [-3.02988338]\nx1:  [7.01494169]  x2:  [-3.02337568]\nx1:  [7.01168784]  x2:  [-3.15352978]\nx1:  [7.07676489]  x2:  [-3.1512056]\nx1:  [7.0756028]  x2:  [-3.19768921]\nx1:  [7.0988446]  x2:  [-3.19685914]\nx1:  [7.09842957]  x2:  [-3.21346043]\nx1:  [7.10673022]  x2:  [-3.21316398]\nx1:  [7.10658199]  x2:  [-3.21909301]\nx1:  [7.10954651]  x2:  [-3.21898714]\nx1:  [7.10949357]  x2:  [-3.22110465]\nx1:  [7.11055232]  x2:  [-3.22106683]\nx1:  [7.11053342]  x2:  [-3.22182309]\nx1:  [7.11091154]  x2:  [-3.22180958]\nx1:  [7.11090479]  x2:  [-3.22207967]\nx1:  [7.11103984]  x2:  [-3.22207485]\nx1:  [7.11103743]  x2:  [-3.22217131]\nx1:  [7.11108566]  x2:  [-3.22216959]\nx1:  [7.11108479]  x2:  [-3.22220404]\nx1:  [7.11110202]  x2:  [-3.22220342]\n"
          ],
          "output_type": "stream"
        }
      ],
      "source": "A_sm \u003d np.ndarray(shape\u003d(2,2), dtype\u003dfloat)\nA_sm[0] \u003d [2,1]\nA_sm[1] \u003d [5,7]\n\nB_sm \u003d np.array([11.0, 13.0])\n\nx_sm \u003d np.array([1.0, 1.0])\n\nfor i in range(25):\n    x_sm \u003d jacobis_next_iteration(A_sm, B_sm, x_sm)\n    print(\"x1: \",x_sm[0] , \" x2: \",x_sm[1])\n    ",
      "metadata": {
        "pycharm": {
          "metadata": false,
          "name": "#%%\n",
          "is_executing": false
        }
      }
    },
    {
      "cell_type": "markdown",
      "source": "\n\u003ch2\u003eTesting the Jacobi\u0027s method on given data\u003c/h2\u003e\n",
      "metadata": {
        "pycharm": {
          "metadata": false,
          "name": "#%% md\n"
        }
      }
    },
    {
      "cell_type": "code",
      "execution_count": null,
      "outputs": [],
      "source": "i \u003d 0\nwhile calculate_residue_vector_sec_norm(A, x, B) or i \u003d\u003d iter_limit:\n    i +\u003d 1\n    x \u003d jacobis_next_iteration(A, B, x)\nprint(\"Residue vector second norm value: \",calculate_residue_vector_sec_norm(A,x, B))\nprint(\"Iteration count: \", i)\n\n    \n\n",
      "metadata": {
        "pycharm": {
          "metadata": false,
          "name": "#%%\n",
          "is_executing": true
        }
      }
    }
  ],
  "metadata": {
    "language_info": {
      "codemirror_mode": {
        "name": "ipython",
        "version": 2
      },
      "file_extension": ".py",
      "mimetype": "text/x-python",
      "name": "python",
      "nbconvert_exporter": "python",
      "pygments_lexer": "ipython2",
      "version": "2.7.6"
    },
    "kernelspec": {
      "name": "python3",
      "language": "python",
      "display_name": "Python 3"
    }
  },
  "nbformat": 4,
  "nbformat_minor": 0
}