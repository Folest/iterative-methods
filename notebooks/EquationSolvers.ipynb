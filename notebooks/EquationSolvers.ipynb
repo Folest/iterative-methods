{
 "cells": [
  {
   "cell_type": "markdown",
   "source": [
    "# Linear equation system solving techniques comparison\n",
    "\n"
   ],
   "metadata": {
    "collapsed": false
   }
  },
  {
   "cell_type": "code",
   "execution_count": 22,
   "outputs": [],
   "source": [
    "import numpy as np\n",
    "import math\n",
    "import datetime as dt\n",
    "import matplotlib as mpl\n"
   ],
   "metadata": {
    "pycharm": {
     "metadata": false,
     "name": "#%% \n",
     "is_executing": false
    }
   }
  },
  {
   "cell_type": "markdown",
   "source": [
    "<h4> \n",
    "\n",
    "    <i>\n",
    "        index = 172110 </br>\n",
    "        c = 1\n",
    "        </br>\n",
    "        d = 0\n",
    "        </br>\n",
    "        e = 1 \n",
    "        </br>\n",
    "        f = 2\n",
    "        </br>\n",
    "        9cd = 910\n",
    "    </i>\n",
    "</h4>\n",
    "\n",
    "**Exercise A**\n"
   ],
   "metadata": {
    "pycharm": {
     "metadata": false,
     "name": "#%% md\n"
    }
   }
  },
  {
   "cell_type": "code",
   "execution_count": 23,
   "outputs": [],
   "source": [
    "N = 300\n",
    "iter_limit = 100\n",
    "epsilon = 10.0 ** (-6)\n",
    "f = 2\n",
    "e = 1\n",
    "a1 = a2 = a3 = 0\n",
    "\n",
    "def init_a_exercise():\n",
    "    global a1, a2, a3, iter_limit\n",
    "    a1 = 5 + e\n",
    "    a2 = a3 = -1\n",
    "    iter_limit = 5000\n",
    "\n"
   ],
   "metadata": {
    "pycharm": {
     "metadata": false,
     "name": "#%%\n",
     "is_executing": false
    }
   }
  },
  {
   "cell_type": "markdown",
   "source": [
    "**Striped matrix generating function**\n"
   ],
   "metadata": {
    "pycharm": {
     "metadata": false,
     "name": "#%% md\n"
    }
   }
  },
  {
   "cell_type": "code",
   "execution_count": 24,
   "outputs": [],
   "source": [
    "def generate_striped_matrix(size: int):\n",
    "    array = np.ndarray(shape=(size,size))\n",
    "    # wybór elementu na diagonali (i,i)\n",
    "    for i in range(size):\n",
    "        # wybór 2 elementy przed, diagonal i 2 elementy za diagonalą\n",
    "        for j in range(size):\n",
    "            if 0 <= j < size:\n",
    "                if abs(i - j) == 2:\n",
    "                    array[i][j] = a3\n",
    "                elif abs(i - j) == 1:\n",
    "                    array[i][j] = a2\n",
    "                elif i == j:\n",
    "                    array[i][j] = a1\n",
    "                else:\n",
    "                    array[i][j] = 0\n",
    "    return array\n",
    "                \n",
    "\n"
   ],
   "metadata": {
    "pycharm": {
     "metadata": false,
     "name": "#%%\n",
     "is_executing": false
    }
   }
  },
  {
   "cell_type": "markdown",
   "source": [
    "**Residue vector second norm calculation**\n"
   ],
   "metadata": {
    "pycharm": {
     "metadata": false
    }
   }
  },
  {
   "cell_type": "code",
   "execution_count": 25,
   "outputs": [],
   "source": [
    "def calculate_residue_vector_norm(A: np.ndarray, x: np.ndarray, B: np.ndarray):\n",
    "    n_size = A.shape[0]\n",
    "    residue_norm = 0.0\n",
    "    for i in range(n_size):\n",
    "        row = 0.0\n",
    "        for j in range(n_size):\n",
    "            row += A[i][j] * x[j]\n",
    "        row -= B[i]\n",
    "        residue_norm += row ** 2\n",
    "    return math.sqrt(residue_norm)\n",
    "    \n",
    "\n"
   ],
   "metadata": {
    "pycharm": {
     "metadata": false,
     "name": "#%%\n",
     "is_executing": false
    }
   }
  },
  {
   "cell_type": "markdown",
   "source": [
    "**Timing functions**"
   ],
   "metadata": {
    "pycharm": {
     "metadata": false,
     "name": "#%% md\n"
    }
   }
  },
  {
   "cell_type": "code",
   "execution_count": 26,
   "outputs": [],
   "source": [
    "starting_time: dt.datetime\n",
    "def tic():\n",
    "    global starting_time\n",
    "    starting_time = dt.datetime.now()\n",
    "    \n",
    "def toc() -> dt.timedelta:\n",
    "    time_diff = dt.datetime.now() - starting_time \n",
    "    return time_diff\n"
   ],
   "metadata": {
    "pycharm": {
     "metadata": false,
     "name": "#%%\n",
     "is_executing": false
    }
   }
  },
  {
   "cell_type": "markdown",
   "source": [
    "**Function printing details about tested solution.**\n"
   ],
   "metadata": {
    "pycharm": {
     "metadata": false,
     "name": "#%% md\n"
    }
   }
  },
  {
   "cell_type": "code",
   "execution_count": 27,
   "outputs": [],
   "source": [
    "def print_details(A: np.ndarray, B: np.ndarray, x: np.ndarray, iteration_count: int, time: dt.timedelta):\n",
    "    print(\"Residue vector second norm value: \", calculate_residue_vector_norm(A, x, B))\n",
    "    print(\"Minutes: \", int(time.seconds / 60), \"seconds: \", time.seconds % 60)\n",
    "    print(\"Time per iteration in seconds: \", time.seconds / iteration_count)\n",
    "\n"
   ],
   "metadata": {
    "pycharm": {
     "metadata": false,
     "name": "#%%\n",
     "is_executing": false
    }
   }
  },
  {
   "cell_type": "markdown",
   "source": [
    "**Matrix initialization**\n"
   ],
   "metadata": {
    "pycharm": {
     "metadata": false
    }
   }
  },
  {
   "cell_type": "code",
   "execution_count": 28,
   "outputs": [],
   "source": [
    "B: np.ndarray\n",
    "A: np.ndarray\n",
    "x: np.ndarray\n",
    "\n",
    "def generate_equation_system():\n",
    "    global A\n",
    "    global B   \n",
    "    global x\n",
    "    \n",
    "    # Wektor pobudzenia\n",
    "    B = np.ndarray(shape=(N, 1), dtype=float)\n",
    "    for i in range(N):\n",
    "        B[i] = math.sin(i * (f + 1))\n",
    "    \n",
    "    # Macierz systemowa\n",
    "    A = generate_striped_matrix(N)\n",
    "    \n",
    "    # Macierz rozwiązań przybliżonych. Zawiera początkowe przybliżenie a później przyjmuje wartości nadane przez\n",
    "    # metody iteracyjne.\n",
    "    x = np.ndarray(shape=(N, 1), dtype=float)\n",
    "    for i in range(N):\n",
    "        x[i] = 0\n",
    "\n",
    "\n"
   ],
   "metadata": {
    "pycharm": {
     "metadata": false,
     "name": "#%%\n",
     "is_executing": false
    }
   }
  },
  {
   "cell_type": "markdown",
   "source": [
    "# Exercise B\n",
    "\n",
    "**Jacobi's method**"
   ],
   "metadata": {
    "pycharm": {
     "metadata": false,
     "name": "#%% md\n"
    }
   }
  },
  {
   "cell_type": "code",
   "execution_count": 29,
   "outputs": [],
   "source": [
    "def jacobis_next_iteration(matrix: np.ndarray, b_vec: np.ndarray, estimates: np.ndarray) -> np.ndarray:\n",
    "    this_iteration: np.ndarray = np.ndarray(shape=(estimates.shape[0],1))\n",
    "    for i in range(matrix.shape[0]):\n",
    "        # Copy of the i-th equation coefficients\n",
    "        curr_equation = matrix[i].copy()\n",
    "        # The coefficient of the x which we're currently we're estimating new value for.\n",
    "        curr_calc_coeff = curr_equation[i]\n",
    "        # Inserting the b vector value into the equation.\n",
    "        new_x = - b_vec[i]\n",
    "        for j in range(curr_equation.shape[0]):\n",
    "            # for every variable except the one we're currently calculating -> (a1 * x1 + ... + an * xn - b)/ aj = xj \n",
    "            if j != i:\n",
    "                # eq[j] is the coefficient of x(j) and estimates[j] is the previous value of the x(j)\n",
    "                new_x += curr_equation[j] * estimates[j]\n",
    "        this_iteration[i] = new_x / - curr_calc_coeff\n",
    "    return this_iteration\n",
    "\n",
    "\n",
    "\n"
   ],
   "metadata": {
    "pycharm": {
     "metadata": false,
     "name": "#%%\n",
     "is_executing": false
    }
   }
  },
  {
   "cell_type": "markdown",
   "source": [
    "**Gauss-Seidl's method.**\n"
   ],
   "metadata": {
    "pycharm": {
     "metadata": false,
     "name": "#%% md\n",
     "is_executing": false
    }
   }
  },
  {
   "cell_type": "code",
   "execution_count": 30,
   "outputs": [],
   "source": [
    "def gauss_seidl_next_iteration(matrix: np.ndarray, b_vec: np.ndarray, estimates: np.ndarray) -> np.ndarray:\n",
    "    this_iteration: np.ndarray = np.ndarray(shape=(estimates.shape[0],1))\n",
    "    for i in range(matrix.shape[0]):\n",
    "        # Copy of the i-th equation coefficients\n",
    "        current_equation = matrix[i].copy()\n",
    "        # The coefficient of the x which we're calculating new value for\n",
    "        curr_calc_coeff = current_equation[i]\n",
    "        # Inserting the b vector value into the equation\n",
    "        new_x = - b_vec[i]\n",
    "        for j in range(i):\n",
    "            new_x += current_equation[j] * this_iteration[j]\n",
    "        for j in range(i + 1, matrix.shape[0]):\n",
    "            new_x += current_equation[j] * estimates[j]\n",
    "        this_iteration[i] = new_x / - curr_calc_coeff\n",
    "    return this_iteration\n",
    "\n",
    "\n",
    "\n",
    "\n",
    "    "
   ],
   "metadata": {
    "pycharm": {
     "metadata": false,
     "name": "#%%\n",
     "is_executing": false
    }
   }
  },
  {
   "cell_type": "markdown",
   "source": [
    "**Testing the Jacobi's method on data from exercise A**\n"
   ],
   "metadata": {
    "pycharm": {
     "metadata": false
    }
   }
  },
  {
   "cell_type": "code",
   "execution_count": 31,
   "outputs": [
    {
     "name": "stdout",
     "text": [
      "Current iteration:  1\n",
      "Current iteration:  2\n",
      "Current iteration:  3\n",
      "Current iteration:  4\n",
      "Current iteration:  5\n",
      "Current iteration:  6\n",
      "Current iteration:  7\n",
      "Current iteration:  8\n",
      "Current iteration:  9\n",
      "Current iteration:  10\n",
      "Current iteration:  11\n",
      "Current iteration:  12\n",
      "Current iteration:  13\n",
      "Current iteration:  14\n",
      "Current iteration:  15\n",
      "Current iteration:  16\n",
      "Current iteration:  17\n",
      "Current iteration:  18\n",
      "Current iteration:  19\n",
      "Current iteration:  20\n",
      "Current iteration:  21\n",
      "Current iteration:  22\n",
      "Current iteration:  23\n",
      "Current iteration:  24\n",
      "Residue vector second norm value:  8.140195485706073e-07\nMinutes:  0 seconds:  12\nTime per iteration in seconds:  0.5\n"
     ],
     "output_type": "stream"
    }
   ],
   "source": [
    "init_a_exercise()\n",
    "generate_equation_system()\n",
    "tic()\n",
    "\n",
    "residue_vector_norm = calculate_residue_vector_norm(A, x, B)\n",
    "i = 0\n",
    "while residue_vector_norm > epsilon and i < iter_limit:\n",
    "    x = jacobis_next_iteration(A, B, x)\n",
    "    i += 1\n",
    "    residue_vector_norm = calculate_residue_vector_norm(A, x, B)\n",
    "    print(\"Current iteration: \", i)\n",
    "\n",
    "# Printing details about this method time, iteration count etc.\n",
    "print_details(A, B, x, i, toc())\n",
    "\n"
   ],
   "metadata": {
    "pycharm": {
     "metadata": false,
     "name": "#%%\n",
     "is_executing": false
    }
   }
  },
  {
   "cell_type": "markdown",
   "source": [
    "**Testing Gauss-Seidl's on data from A exercise**\n"
   ],
   "metadata": {
    "pycharm": {
     "metadata": false,
     "name": "#%% md\n"
    }
   }
  },
  {
   "cell_type": "code",
   "execution_count": 32,
   "outputs": [
    {
     "name": "stdout",
     "text": [
      "Iterations passed:  1\n",
      "Iterations passed:  2\n",
      "Iterations passed:  3\n",
      "Iterations passed:  4\n",
      "Iterations passed:  5\n",
      "Iterations passed:  6\n",
      "Iterations passed:  7\n",
      "Iterations passed:  8\n",
      "Iterations passed:  9\n",
      "Iterations passed:  10\n",
      "Iterations passed:  11\n",
      "Iterations passed:  12\n",
      "Iterations passed:  13\n",
      "Iterations passed:  14\n",
      "Iterations passed:  15\n",
      "Iterations passed:  16\n",
      "Residue vector second norm value:  7.696797973615508e-07\nMinutes:  0 seconds:  8\nTime per iteration in seconds:  0.5\n"
     ],
     "output_type": "stream"
    }
   ],
   "source": [
    "init_a_exercise()\n",
    "generate_equation_system()\n",
    "tic()\n",
    "\n",
    "\n",
    "# residue_vector_norm_values = [float]\n",
    "residue_vector_norm = calculate_residue_vector_norm(A, x, B)\n",
    "i = 0\n",
    "while  residue_vector_norm > epsilon and i < iter_limit:\n",
    "    x = gauss_seidl_next_iteration(A, B, x)\n",
    "    i += 1\n",
    "    residue_vector_norm = calculate_residue_vector_norm(A, x, B)\n",
    "    # residue_vector_norm_values.append(residue_vector_norm)\n",
    "    print(\"Iterations passed: \", i)\n",
    "    \n",
    "# Printing details about this method time, iteration count etc.\n",
    "print_details(A, B, x, i, toc())\n",
    "\n",
    "\n"
   ],
   "metadata": {
    "pycharm": {
     "metadata": false,
     "name": "#%%\n",
     "is_executing": false
    }
   }
  },
  {
   "cell_type": "markdown",
   "source": [
    "## Exercise C\n",
    "\n",
    "**Changing the coefficients used to generate equation system to match the specification of exercise C**"
   ],
   "metadata": {
    "pycharm": {
     "metadata": false,
     "name": "#%% md\n"
    }
   }
  },
  {
   "cell_type": "code",
   "execution_count": 33,
   "outputs": [],
   "source": [
    "\n",
    "def init_c_exercise():\n",
    "    global a1, a2, a3, iter_limit\n",
    "    a1 = 3\n",
    "    a2 = a3 = -1\n",
    "    iter_limit = 30\n"
   ],
   "metadata": {
    "pycharm": {
     "metadata": false,
     "name": "#%%\n",
     "is_executing": false
    }
   }
  },
  {
   "cell_type": "markdown",
   "source": [
    "**Testing the Jacobi's method on data from exercise C**\n"
   ],
   "metadata": {
    "pycharm": {
     "metadata": false
    }
   }
  },
  {
   "cell_type": "code",
   "execution_count": 34,
   "outputs": [
    {
     "name": "stdout",
     "text": [
      "Iterations passed:  1\n",
      "Iterations passed:  2\n",
      "Iterations passed:  3\n",
      "Iterations passed:  4\n",
      "Iterations passed:  5\n",
      "Iterations passed:  6\n",
      "Iterations passed:  7\n",
      "Iterations passed:  8\n",
      "Iterations passed:  9\n",
      "Iterations passed:  10\n",
      "Iterations passed:  11\n",
      "Iterations passed:  12\n",
      "Iterations passed:  13\n",
      "Iterations passed:  14\n",
      "Iterations passed:  15\n",
      "Iterations passed:  16\n",
      "Iterations passed:  17\n",
      "Iterations passed:  18\n",
      "Iterations passed:  19\n",
      "Iterations passed:  20\n",
      "Iterations passed:  21\n",
      "Iterations passed:  22\n",
      "Iterations passed:  23\n",
      "Iterations passed:  24\n",
      "Iterations passed:  25\n",
      "Iterations passed:  26\n",
      "Iterations passed:  27\n",
      "Iterations passed:  28\n",
      "Iterations passed:  29\n",
      "Iterations passed:  30\n",
      "Iterations passed:  31\n",
      "Iterations passed:  32\n",
      "Iterations passed:  33\n",
      "Iterations passed:  34\n",
      "Iterations passed:  35\n",
      "Iterations passed:  36\n",
      "Iterations passed:  37\n",
      "Iterations passed:  38\n",
      "Iterations passed:  39\n",
      "Iterations passed:  40\n",
      "Iterations passed:  41\n",
      "Iterations passed:  42\n",
      "Iterations passed:  43\n",
      "Iterations passed:  44\n",
      "Iterations passed:  45\n",
      "Iterations passed:  46\n",
      "Iterations passed:  47\n",
      "Iterations passed:  48\n",
      "Iterations passed:  49\n",
      "Iterations passed:  50\n",
      "Iterations passed:  51\n",
      "Iterations passed:  52\n",
      "Iterations passed:  53\n",
      "Iterations passed:  54\n",
      "Iterations passed:  55\n",
      "Iterations passed:  56\n",
      "Iterations passed:  57\n",
      "Iterations passed:  58\n",
      "Iterations passed:  59\n",
      "Iterations passed:  60\n",
      "Iterations passed:  61\n",
      "Iterations passed:  62\n",
      "Iterations passed:  63\n",
      "Iterations passed:  64\n",
      "Iterations passed:  65\n",
      "Iterations passed:  66\n",
      "Iterations passed:  67\n",
      "Iterations passed:  68\n",
      "Iterations passed:  69\n",
      "Iterations passed:  70\n",
      "Iterations passed:  71\n",
      "Iterations passed:  72\n",
      "Iterations passed:  73\n",
      "Iterations passed:  74\n",
      "Iterations passed:  75\n",
      "Iterations passed:  76\n",
      "Iterations passed:  77\n",
      "Iterations passed:  78\n",
      "Iterations passed:  79\n",
      "Iterations passed:  80\n",
      "Iterations passed:  81\n",
      "Iterations passed:  82\n",
      "Iterations passed:  83\n",
      "Iterations passed:  84\n",
      "Iterations passed:  85\n",
      "Iterations passed:  86\n",
      "Iterations passed:  87\n",
      "Iterations passed:  88\n",
      "Iterations passed:  89\n",
      "Iterations passed:  90\n",
      "Iterations passed:  91\n",
      "Iterations passed:  92\n",
      "Iterations passed:  93\n",
      "Iterations passed:  94\n",
      "Iterations passed:  95\n",
      "Iterations passed:  96\n",
      "Iterations passed:  97\n",
      "Iterations passed:  98\n",
      "Iterations passed:  99\n",
      "Iterations passed:  100\n",
      "Residue vector second norm value:  14666876404.497192\nMinutes:  0 seconds:  54\nTime per iteration in seconds:  0.54\n"
     ],
     "output_type": "stream"
    }
   ],
   "source": [
    "init_c_exercise()\n",
    "generate_equation_system()\n",
    "tic()\n",
    "\n",
    "i = 0\n",
    "residue_vector_norm = calculate_residue_vector_norm(A, x, B)\n",
    "while residue_vector_norm > epsilon and i < iter_limit:\n",
    "    i += 1\n",
    "    x = jacobis_next_iteration(A, B, x)\n",
    "    residue_vector_norm = calculate_residue_vector_norm(A, x, B)\n",
    "    print(\"Iterations passed: \", i)\n",
    "\n",
    "# Printing details about this method time, iteration count etc.\n",
    "print_details(A, B, x, i, toc())\n",
    "\n"
   ],
   "metadata": {
    "pycharm": {
     "metadata": false,
     "name": "#%%\n",
     "is_executing": false
    }
   }
  },
  {
   "cell_type": "markdown",
   "source": [
    "**Testing Gauss-Seidl's on data from C exercise**\n"
   ],
   "metadata": {
    "pycharm": {
     "metadata": false
    }
   }
  },
  {
   "cell_type": "code",
   "execution_count": 26,
   "outputs": [
    {
     "name": "stdout",
     "text": [
      "Iterations passed:  1\n",
      "Iterations passed:  2\n",
      "Iterations passed:  3\n",
      "Iterations passed:  4\n",
      "Iterations passed:  5\n",
      "Iterations passed:  6\n",
      "Iterations passed:  7\n",
      "Iterations passed:  8\n",
      "Iterations passed:  9\n",
      "Iterations passed:  10\n",
      "Iterations passed:  11\n",
      "Iterations passed:  12\n",
      "Iterations passed:  13\n",
      "Iterations passed:  14\n",
      "Iterations passed:  15\n",
      "Iterations passed:  16\n",
      "Iterations passed:  17\n",
      "Iterations passed:  18\n",
      "Iterations passed:  19\n",
      "Iterations passed:  20\n",
      "Iterations passed:  21\n",
      "Iterations passed:  22\n",
      "Iterations passed:  23\n",
      "Iterations passed:  24\n",
      "Iterations passed:  25\n",
      "Iterations passed:  26\n",
      "Iterations passed:  27\n",
      "Iterations passed:  28\n",
      "Iterations passed:  29\n",
      "Iterations passed:  30\n",
      "Iterations passed:  31\n",
      "Iterations passed:  32\n",
      "Iterations passed:  33\n",
      "Iterations passed:  34\n",
      "Iterations passed:  35\n",
      "Iterations passed:  36\n",
      "Iterations passed:  37\n",
      "Iterations passed:  38\n",
      "Iterations passed:  39\n",
      "Iterations passed:  40\n",
      "Iterations passed:  41\n",
      "Iterations passed:  42\n",
      "Iterations passed:  43\n",
      "Iterations passed:  44\n",
      "Iterations passed:  45\n",
      "Iterations passed:  46\n",
      "Iterations passed:  47\n",
      "Iterations passed:  48\n",
      "Iterations passed:  49\n",
      "Iterations passed:  50\n",
      "Iterations passed:  51\n",
      "Iterations passed:  52\n",
      "Iterations passed:  53\n",
      "Iterations passed:  54\n",
      "Iterations passed:  55\n",
      "Iterations passed:  56\n",
      "Iterations passed:  57\n",
      "Iterations passed:  58\n",
      "Iterations passed:  59\n",
      "Iterations passed:  60\n",
      "Iterations passed:  61\n",
      "Iterations passed:  62\n",
      "Iterations passed:  63\n",
      "Iterations passed:  64\n",
      "Iterations passed:  65\n",
      "Iterations passed:  66\n",
      "Iterations passed:  67\n",
      "Iterations passed:  68\n",
      "Iterations passed:  69\n",
      "Iterations passed:  70\n",
      "Iterations passed:  71\n",
      "Iterations passed:  72\n",
      "Iterations passed:  73\n",
      "Iterations passed:  74\n",
      "Iterations passed:  75\n",
      "Iterations passed:  76\n",
      "Iterations passed:  77\n",
      "Iterations passed:  78\n",
      "Iterations passed:  79\n",
      "Iterations passed:  80\n",
      "Iterations passed:  81\n",
      "Iterations passed:  82\n",
      "Iterations passed:  83\n",
      "Iterations passed:  84\n",
      "Iterations passed:  85\n",
      "Iterations passed:  86\n",
      "Iterations passed:  87\n",
      "Iterations passed:  88\n",
      "Iterations passed:  89\n",
      "Iterations passed:  90\n",
      "Iterations passed:  91\n",
      "Iterations passed:  92\n",
      "Iterations passed:  93\n",
      "Iterations passed:  94\n",
      "Iterations passed:  95\n",
      "Iterations passed:  96\n",
      "Iterations passed:  97\n",
      "Iterations passed:  98\n",
      "Iterations passed:  99\n",
      "Iterations passed:  100\n",
      "Residue vector second norm value:  1.3195318356189657e+27\nMinutes:  0 seconds:  48\nTime per iteration in seconds:  0.48\n"
     ],
     "output_type": "stream"
    }
   ],
   "source": [
    "init_c_exercise()\n",
    "generate_equation_system()\n",
    "tic()\n",
    "\n",
    "i = 0\n",
    "residue_vector_norm_values = [float]\n",
    "residue_vector_norm = calculate_residue_vector_norm(A, x, B)  \n",
    "while  residue_vector_norm > epsilon and i < iter_limit:\n",
    "    i += 1\n",
    "    x = gauss_seidl_next_iteration(A, B, x)\n",
    "    residue_vector_norm = calculate_residue_vector_norm(A, x, B)\n",
    "    residue_vector_norm_values.append(residue_vector_norm)\n",
    "    print(\"Iterations passed: \", i)\n",
    "    \n",
    "# Printing details about this method time, iteration count etc.\n",
    "print_details(A, B, x, i, toc())\n",
    "\n"
   ],
   "metadata": {
    "pycharm": {
     "metadata": false,
     "name": "#%%\n",
     "is_executing": false
    }
   }
  },
  {
   "cell_type": "markdown",
   "source": [
    "## Exercise C\n",
    "\n",
    "**LU Factorization method**\n",
    "\n",
    "*LU Decomposition*"
   ],
   "metadata": {
    "pycharm": {
     "metadata": false,
     "name": "#%% md\n"
    }
   }
  },
  {
   "cell_type": "code",
   "execution_count": 27,
   "outputs": [],
   "source": [
    "\n",
    "def decompose_matrix_in_place(A: np.ndarray):\n",
    "    # For every element on the main diagonal (the matrix has to be of shape NxN)\n",
    "    for k in range(A.shape[0]):\n",
    "        # Column normalization\n",
    "        for i in range(k+1, A.shape[0]):\n",
    "            if math.fabs(A[k][k]) >= epsilon:\n",
    "                A[i][k] = A[i][k] / A[k][k]\n",
    "            else:\n",
    "                print(\"An element too close to zero was placed on the diagonal\")\n",
    "                return  # the element on the main diagonal is too close to zero to continue operations\n",
    "        # Submatrix normalization\n",
    "        for i in range(k + 1, A.shape[0]):\n",
    "            for j in range(k + 1, A.shape[0]):\n",
    "                # Skipping the main diagonal\n",
    "                if i != j:\n",
    "                    A[i][j] -= A[i][k] * A[k][j]\n",
    "\n"
   ],
   "metadata": {
    "pycharm": {
     "metadata": false,
     "name": "#%%\n",
     "is_executing": false
    }
   }
  },
  {
   "cell_type": "markdown",
   "source": [
    "**Solving the decomposed system**\n"
   ],
   "metadata": {
    "pycharm": {
     "metadata": false,
     "name": "#%% md\n"
    }
   }
  },
  {
   "cell_type": "code",
   "execution_count": 28,
   "outputs": [],
   "source": [
    "# this returns our theoretical z\n",
    "def solve_L(LU: np.ndarray, b: np.ndarray) -> np.ndarray:\n",
    "    sol = np.zeros(shape=(LU.shape[0], 1), dtype=float)\n",
    "    # We assume that all elements of the main diagonal of the L matrix are = 1\n",
    "    sol[0][0] = b[0][0]\n",
    "    for i in range(1, LU.shape[0]):\n",
    "        for j in range(0, i):\n",
    "            sol[i][0] += sol[j][0] * LU[i][j]\n",
    "        sol[i][0] -= b[i][0]\n",
    "    return sol\n",
    "        \n",
    "# this returns our x\n",
    "def solve_U(LU: np.ndarray, z: np.ndarray) -> np.ndarray:\n",
    "    n = LU.shape[0]\n",
    "    \n",
    "    sol = np.zeros(shape=(n, 1), dtype=float)\n",
    "    # n - 1 is the last index of matrix => last x element = last b / last element on diagonal\n",
    "    sol[n - 1][0] = z[n - 1][0] / LU[n - 1][n - 1]\n",
    "    \n",
    "    for i in reversed(range(0, n)):\n",
    "        for j in reversed(range(n - 1, i)):\n",
    "            sol[i][0] += sol[j][0] * LU[i][j]\n",
    "        sol[i][0] -= z[i][0]\n",
    "        sol[i][0] /= LU[i][i]\n",
    "    return sol\n",
    "    \n",
    "\n",
    "def solve_LU(LU: np.ndarray, b: np.ndarray):\n",
    "    z = solve_L(LU, b)\n",
    "    x = solve_U(LU, z)\n",
    "    return x\n",
    "    \n",
    "\n"
   ],
   "metadata": {
    "pycharm": {
     "metadata": false,
     "name": "#%%\n",
     "is_executing": false
    }
   }
  },
  {
   "cell_type": "markdown",
   "source": [
    "## One more attempt to LU Fac.\n"
   ],
   "metadata": {
    "collapsed": false,
    "pycharm": {
     "name": "#%% md\n"
    }
   }
  },
  {
   "cell_type": "code",
   "execution_count": 29,
   "outputs": [],
   "source": [
    "def matrix_decomposition(A: np.ndarray) -> (np.ndarray, np.ndarray):\n",
    "    n = A.shape[0]\n",
    "    L = np.ndarray(shape=(n, n))\n",
    "    U = np.ndarray(shape=(n, n))\n",
    "    # decomposition\n",
    "    for i in range(n):\n",
    "        # upper triangular\n",
    "        for k in range(i,n):\n",
    "            lu_sum = 0.0\n",
    "            for j in range(0, i):\n",
    "                lu_sum +=  L[i][j] * U[j][k]\n",
    "            U[i][j] = A[i][j] - lu_sum\n",
    "                \n",
    "        for k in range(i, n):\n",
    "            if i == k:\n",
    "                L[i][i] = 1\n",
    "                continue\n",
    "            lu_sum = 0.0\n",
    "            for j in range(0, i):\n",
    "                lu_sum += U[k][j] * L[j][i]\n",
    "            L[k][i] = (A[k][i] - sum) / U[i][i]\n",
    "\n",
    "    \n",
    "    \n",
    "def solve_lu_equation(L: np.ndarray, U: np.ndarray, B: np.ndarray):\n",
    "    n = L.shape[0]\n",
    "    L_inv = np.ndarray(shape=L.shape)\n",
    "    for i in range(n):\n",
    "        for j in range(i):\n",
    "            L_inv[i][j] = -L[i][j]\n",
    "        L_inv[i][i] = L[i][i]\n",
    "    y = np.dot\n",
    "\n"
   ],
   "metadata": {
    "collapsed": false,
    "pycharm": {
     "name": "#%%\n",
     "is_executing": false
    }
   }
  },
  {
   "cell_type": "markdown",
   "source": [
    "**LU Factorization method testing**\n",
    "            "
   ],
   "metadata": {
    "pycharm": {
     "metadata": false,
     "name": "#%% md\n"
    }
   }
  },
  {
   "cell_type": "code",
   "execution_count": 30,
   "outputs": [
    {
     "traceback": [
      "\u001b[1;31m---------------------------------------------------------------------------\u001b[0m",
      "\u001b[1;31mUnboundLocalError\u001b[0m                         Traceback (most recent call last)",
      "\u001b[1;32m<ipython-input-30-ce9f0b002823>\u001b[0m in \u001b[0;36m<module>\u001b[1;34m\u001b[0m\n\u001b[0;32m      2\u001b[0m \u001b[0mgenerate_equation_system\u001b[0m\u001b[1;33m(\u001b[0m\u001b[1;33m)\u001b[0m\u001b[1;33m\u001b[0m\u001b[1;33m\u001b[0m\u001b[0m\n\u001b[0;32m      3\u001b[0m \u001b[1;33m\u001b[0m\u001b[0m\n\u001b[1;32m----> 4\u001b[1;33m \u001b[0mL\u001b[0m\u001b[1;33m,\u001b[0m \u001b[0mU\u001b[0m \u001b[1;33m=\u001b[0m \u001b[0mmatrix_decomposition\u001b[0m\u001b[1;33m(\u001b[0m\u001b[0mA\u001b[0m\u001b[1;33m)\u001b[0m\u001b[1;33m\u001b[0m\u001b[1;33m\u001b[0m\u001b[0m\n\u001b[0m\u001b[0;32m      5\u001b[0m \u001b[1;33m\u001b[0m\u001b[0m\n\u001b[0;32m      6\u001b[0m \u001b[0mprint\u001b[0m\u001b[1;33m(\u001b[0m\u001b[1;34m\"Residue vector norm value: \"\u001b[0m\u001b[1;33m,\u001b[0m \u001b[0mcalculate_residue_vector_norm\u001b[0m\u001b[1;33m(\u001b[0m\u001b[0mA\u001b[0m\u001b[1;33m,\u001b[0m \u001b[0mxc\u001b[0m\u001b[1;33m,\u001b[0m \u001b[0mB\u001b[0m\u001b[1;33m)\u001b[0m\u001b[1;33m)\u001b[0m\u001b[1;33m\u001b[0m\u001b[1;33m\u001b[0m\u001b[0m\n",
      "\u001b[1;32m<ipython-input-29-6a4d80cd3dbd>\u001b[0m in \u001b[0;36mmatrix_decomposition\u001b[1;34m(A)\u001b[0m\n\u001b[0;32m     10\u001b[0m             \u001b[1;32mfor\u001b[0m \u001b[0mj\u001b[0m \u001b[1;32min\u001b[0m \u001b[0mrange\u001b[0m\u001b[1;33m(\u001b[0m\u001b[1;36m0\u001b[0m\u001b[1;33m,\u001b[0m \u001b[0mi\u001b[0m\u001b[1;33m)\u001b[0m\u001b[1;33m:\u001b[0m\u001b[1;33m\u001b[0m\u001b[1;33m\u001b[0m\u001b[0m\n\u001b[0;32m     11\u001b[0m                 \u001b[0mlu_sum\u001b[0m \u001b[1;33m+=\u001b[0m  \u001b[0mL\u001b[0m\u001b[1;33m[\u001b[0m\u001b[0mi\u001b[0m\u001b[1;33m]\u001b[0m\u001b[1;33m[\u001b[0m\u001b[0mj\u001b[0m\u001b[1;33m]\u001b[0m \u001b[1;33m*\u001b[0m \u001b[0mU\u001b[0m\u001b[1;33m[\u001b[0m\u001b[0mj\u001b[0m\u001b[1;33m]\u001b[0m\u001b[1;33m[\u001b[0m\u001b[0mk\u001b[0m\u001b[1;33m]\u001b[0m\u001b[1;33m\u001b[0m\u001b[1;33m\u001b[0m\u001b[0m\n\u001b[1;32m---> 12\u001b[1;33m             \u001b[0mU\u001b[0m\u001b[1;33m[\u001b[0m\u001b[0mi\u001b[0m\u001b[1;33m]\u001b[0m\u001b[1;33m[\u001b[0m\u001b[0mj\u001b[0m\u001b[1;33m]\u001b[0m \u001b[1;33m=\u001b[0m \u001b[0mA\u001b[0m\u001b[1;33m[\u001b[0m\u001b[0mi\u001b[0m\u001b[1;33m]\u001b[0m\u001b[1;33m[\u001b[0m\u001b[0mj\u001b[0m\u001b[1;33m]\u001b[0m \u001b[1;33m-\u001b[0m \u001b[0mlu_sum\u001b[0m\u001b[1;33m\u001b[0m\u001b[1;33m\u001b[0m\u001b[0m\n\u001b[0m\u001b[0;32m     13\u001b[0m \u001b[1;33m\u001b[0m\u001b[0m\n\u001b[0;32m     14\u001b[0m         \u001b[1;32mfor\u001b[0m \u001b[0mk\u001b[0m \u001b[1;32min\u001b[0m \u001b[0mrange\u001b[0m\u001b[1;33m(\u001b[0m\u001b[0mi\u001b[0m\u001b[1;33m,\u001b[0m \u001b[0mn\u001b[0m\u001b[1;33m)\u001b[0m\u001b[1;33m:\u001b[0m\u001b[1;33m\u001b[0m\u001b[1;33m\u001b[0m\u001b[0m\n",
      "\u001b[1;31mUnboundLocalError\u001b[0m: local variable 'j' referenced before assignment"
     ],
     "ename": "UnboundLocalError",
     "evalue": "local variable 'j' referenced before assignment",
     "output_type": "error"
    }
   ],
   "source": [
    "init_c_exercise()\n",
    "generate_equation_system()\n",
    "\n",
    "L, U = matrix_decomposition(A)\n",
    "\n",
    "print(\"Residue vector norm value: \", calculate_residue_vector_norm(A, xc, B))\n"
   ],
   "metadata": {
    "pycharm": {
     "metadata": false,
     "name": "#%%\n",
     "is_executing": false
    }
   }
  },
  {
   "cell_type": "markdown",
   "source": [
    "Initializing last exercise\n",
    "\n"
   ],
   "metadata": {
    "collapsed": false,
    "pycharm": {
     "name": "#%% md\n"
    }
   }
  },
  {
   "cell_type": "code",
   "execution_count": null,
   "outputs": [
    {
     "name": "stdout",
     "text": [
      "100 x 100: \nCurrent iteration:  1\nCurrent iteration:  2\nCurrent iteration:  3\n",
      "Current iteration:  4\nCurrent iteration:  5\nCurrent iteration:  6\nCurrent iteration:  7\n",
      "Current iteration:  8\nCurrent iteration:  9\nCurrent iteration:  10\nCurrent iteration:  11\n",
      "Current iteration:  12\nCurrent iteration:  13\nCurrent iteration:  14\nCurrent iteration:  15\n",
      "Current iteration:  16\nCurrent iteration:  17\nCurrent iteration:  18\nCurrent iteration:  19\nCurrent iteration:  20\n",
      "Current iteration:  21\nCurrent iteration:  22\nCurrent iteration:  23\nCurrent iteration:  24\nResidue vector second norm value: ",
      " 8.124472480419429e-07\nMinutes:  0 seconds:  1\nTime per iteration in seconds:  0.041666666666666664\n500 x 500\n",
      "Iterations passed:  1\n",
      "Iterations passed:  2\n",
      "Iterations passed:  3\n",
      "Iterations passed:  4\n",
      "Iterations passed:  5\n",
      "Iterations passed:  6\n",
      "Iterations passed:  7\n",
      "Iterations passed:  8\n",
      "Iterations passed:  9\n",
      "Iterations passed:  10\n",
      "Iterations passed:  11\n",
      "Iterations passed:  12\n",
      "Iterations passed:  13\n",
      "Iterations passed:  14\n",
      "Iterations passed:  15\n",
      "Iterations passed:  16\n",
      "Residue vector second norm value:  7.694682423834141e-07\nMinutes:  0 seconds:  22\nTime per iteration in seconds:  1.375\n1000 x 1000: \n",
      "Current iteration:  1\n",
      "Current iteration:  2\n",
      "Current iteration:  3\n",
      "Current iteration:  4\n",
      "Current iteration:  5\n",
      "Current iteration:  6\n",
      "Current iteration:  7\n",
      "Current iteration:  8\n",
      "Current iteration:  9\n",
      "Current iteration:  10\n",
      "Current iteration:  11\n",
      "Current iteration:  12\n",
      "Current iteration:  13\n",
      "Current iteration:  14\n",
      "Current iteration:  15\n",
      "Current iteration:  16\n",
      "Current iteration:  17\n",
      "Current iteration:  18\n",
      "Current iteration:  19\n",
      "Current iteration:  20\n",
      "Residue vector second norm value:  6.726176828788957e-07\nMinutes:  1 seconds:  51\nTime per iteration in seconds:  5.55\n2000 x 2000: \n",
      "Iterations passed:  1\n",
      "Iterations passed:  2\n",
      "Iterations passed:  3\n",
      "Iterations passed:  4\n",
      "Iterations passed:  5\n",
      "Iterations passed:  6\n",
      "Iterations passed:  7\n",
      "Iterations passed:  8\n",
      "Iterations passed:  9\n",
      "Iterations passed:  10\n",
      "Iterations passed:  11\n",
      "Iterations passed:  12\n",
      "Iterations passed:  13\n",
      "Iterations passed:  14\n",
      "Iterations passed:  15\n",
      "Residue vector second norm value:  5.553579765644092e-07\nMinutes:  5 seconds:  36\nTime per iteration in seconds:  22.4\n3000 x 3000: \n"
     ],
     "output_type": "stream"
    }
   ],
   "source": [
    "\n",
    "\n",
    "print(\"100 x 100: \")\n",
    "N =  100\n",
    "init_a_exercise()\n",
    "generate_equation_system()\n",
    "tic()\n",
    "\n",
    "residue_vector_norm = calculate_residue_vector_norm(A, x, B)\n",
    "i = 0\n",
    "while residue_vector_norm > epsilon and i < iter_limit:\n",
    "    x = jacobis_next_iteration(A, B, x)\n",
    "    i += 1\n",
    "    residue_vector_norm = calculate_residue_vector_norm(A, x, B)\n",
    "    print(\"Current iteration: \", i)\n",
    "\n",
    "print_details(A, B, x, i, toc())\n",
    "\n",
    "\n",
    "init_a_exercise()\n",
    "generate_equation_system()\n",
    "tic()\n",
    "\n",
    "residue_vector_norm = calculate_residue_vector_norm(A, x, B)\n",
    "i = 0\n",
    "while residue_vector_norm > epsilon and i < iter_limit:\n",
    "    x = gauss_seidl_next_iteration(A, B, x)\n",
    "    i += 1\n",
    "    residue_vector_norm = calculate_residue_vector_norm(A, x, B)\n",
    "    print(\"Current iteration: \", i)\n",
    "\n",
    "print_details(A, B, x, i, toc())\n",
    "\n",
    "\n",
    "\n",
    "\n",
    "print(\"500 x 500\")\n",
    "N = 500  \n",
    "\n",
    "init_a_exercise()\n",
    "generate_equation_system()\n",
    "tic()\n",
    "\n",
    "\n",
    "residue_vector_norm = calculate_residue_vector_norm(A, x, B)\n",
    "i = 0\n",
    "while residue_vector_norm > epsilon and i < iter_limit:\n",
    "    x = jacobis_next_iteration(A, B, x)\n",
    "    i += 1\n",
    "    residue_vector_norm = calculate_residue_vector_norm(A, x, B)\n",
    "    print(\"Iterations passed: \", i)\n",
    "    \n",
    "print_details(A, B, x, i, toc())\n",
    "\n",
    "\n",
    "generate_equation_system()\n",
    "tic()\n",
    "\n",
    "\n",
    "residue_vector_norm = calculate_residue_vector_norm(A, x, B)\n",
    "i = 0\n",
    "while residue_vector_norm > epsilon and i < iter_limit:\n",
    "    x = gauss_seidl_next_iteration(A, B, x)\n",
    "    i += 1\n",
    "    residue_vector_norm = calculate_residue_vector_norm(A, x, B)\n",
    "    # residue_vector_norm_values.append(residue_vector_norm)\n",
    "    print(\"Iterations passed: \", i)\n",
    "    \n",
    "# Printing details about this method time, iteration count etc.\n",
    "print_details(A, B, x, i, toc())\n",
    "\n",
    "\n",
    "\n",
    "\n",
    "\n",
    "\n",
    "\n",
    "\n",
    "print(\"1000 x 1000: \")\n",
    "\n",
    "\n",
    "N = 1000  \n",
    "\n",
    "init_a_exercise()\n",
    "generate_equation_system()\n",
    "tic()\n",
    "residue_vector_norm = calculate_residue_vector_norm(A, x, B)\n",
    "i = 0\n",
    "while residue_vector_norm > epsilon and i < iter_limit:\n",
    "    x = jacobis_next_iteration(A, B, x)\n",
    "    i += 1\n",
    "    residue_vector_norm = calculate_residue_vector_norm(A, x, B)\n",
    "    print(\"Current iteration: \", i)\n",
    "\n",
    "# Printing details about this method time, iteration count etc.\n",
    "print_details(A, B, x, i, toc())\n",
    "\n",
    "init_a_exercise()\n",
    "generate_equation_system()\n",
    "tic()\n",
    "residue_vector_norm = calculate_residue_vector_norm(A, x, B)\n",
    "i = 0\n",
    "while residue_vector_norm > epsilon and i < iter_limit:\n",
    "    x = gauss_seidl_next_iteration(A, B, x)\n",
    "    i += 1\n",
    "    residue_vector_norm = calculate_residue_vector_norm(A, x, B)\n",
    "    print(\"Current iteration: \", i)\n",
    "\n",
    "# Printing details about this method time, iteration count etc.\n",
    "print_details(A, B, x, i, toc())\n",
    "\n",
    "\n",
    "\n",
    "\n",
    "\n",
    "\n",
    "print(\"2000 x 2000: \")\n",
    "\n",
    "N = 2000  \n",
    "\n",
    "init_a_exercise()\n",
    "generate_equation_system()\n",
    "tic()\n",
    "# residue_vector_norm_values = [float]\n",
    "residue_vector_norm = calculate_residue_vector_norm(A, x, B)\n",
    "i = 0\n",
    "while residue_vector_norm > epsilon and i < iter_limit:\n",
    "    x = jacobis_next_iteration(A, B, x)\n",
    "    i += 1\n",
    "    residue_vector_norm = calculate_residue_vector_norm(A, x, B)\n",
    "    # residue_vector_norm_values.append(residue_vector_norm)\n",
    "    print(\"Iterations passed: \", i)\n",
    "    \n",
    "# Printing details about this method time, iteration count etc.\n",
    "print_details(A, B, x, i, toc())\n",
    "\n",
    "\n",
    "init_a_exercise()\n",
    "generate_equation_system()\n",
    "tic()\n",
    "residue_vector_norm = calculate_residue_vector_norm(A, x, B)\n",
    "i = 0\n",
    "while residue_vector_norm > epsilon and i < iter_limit:\n",
    "    x = gauss_seidl_next_iteration(A, B, x)\n",
    "    i += 1\n",
    "    residue_vector_norm = calculate_residue_vector_norm(A, x, B)\n",
    "    # residue_vector_norm_values.append(residue_vector_norm)\n",
    "    print(\"Iterations passed: \", i)\n",
    "    \n",
    "# Printing details about this method time, iteration count etc.\n",
    "print_details(A, B, x, i, toc())\n",
    "\n",
    "\n",
    "\n"
   ],
   "metadata": {
    "collapsed": false,
    "pycharm": {
     "name": "#%%\n",
     "is_executing": true
    }
   }
  },
  {
   "cell_type": "code",
   "execution_count": 37,
   "outputs": [
    {
     "name": "stdout",
     "text": [
      "3000 x 3000: \n",
      "Current iteration:  1\n",
      "Current iteration:  2\n",
      "Current iteration:  3\n",
      "Current iteration:  4\n",
      "Current iteration:  5\n",
      "Current iteration:  6\n",
      "Current iteration:  7\n",
      "Current iteration:  8\n",
      "Current iteration:  9\n",
      "Current iteration:  10\n",
      "Current iteration:  11\n",
      "Current iteration:  12\n",
      "Current iteration:  13\n",
      "Current iteration:  14\n",
      "Current iteration:  15\n",
      "Current iteration:  16\n",
      "Current iteration:  17\n",
      "Current iteration:  18\n",
      "Current iteration:  19\n",
      "Current iteration:  20\n",
      "Current iteration:  21\n",
      "Current iteration:  22\n",
      "Current iteration:  23\n",
      "Residue vector second norm value:  6.878638859433061e-07\nMinutes:  19 seconds:  7\nTime per iteration in seconds:  49.869565217391305\n"
     ],
     "output_type": "stream"
    }
   ],
   "source": [
    "print(\"3000 x 3000: \")\n",
    "\n",
    "N = 3000\n",
    "init_a_exercise()\n",
    "generate_equation_system()\n",
    "\n",
    "tic()\n",
    "residue_vector_norm = calculate_residue_vector_norm(A, x, B)\n",
    "i = 0\n",
    "while residue_vector_norm > epsilon and i < iter_limit:\n",
    "    x = jacobis_next_iteration(A, B, x)\n",
    "    i += 1\n",
    "    residue_vector_norm = calculate_residue_vector_norm(A, x, B)\n",
    "    print(\"Current iteration: \", i)\n",
    "\n",
    "# Printing details about this method time, iteration count etc.\n",
    "print_details(A, B, x, i, toc())\n",
    "\n",
    "init_a_exercise()\n",
    "generate_equation_system()\n",
    "\n",
    "tic()\n",
    "residue_vector_norm = calculate_residue_vector_norm(A, x, B)\n",
    "i = 0\n",
    "while residue_vector_norm > epsilon and i < iter_limit:\n",
    "    x = gauss_seidl_next_iteration(A, B, x)\n",
    "    i += 1\n",
    "    residue_vector_norm = calculate_residue_vector_norm(A, x, B)\n",
    "    print(\"Current iteration: \", i)\n",
    "\n",
    "# Printing details about this method time, iteration count etc.\n",
    "print_details(A, B, x, i, toc())\n"
   ],
   "metadata": {
    "collapsed": false,
    "pycharm": {
     "name": "#%%\n",
     "is_executing": false
    }
   }
  }
 ],
 "metadata": {
  "language_info": {
   "codemirror_mode": {
    "name": "ipython",
    "version": 2
   },
   "file_extension": ".py",
   "mimetype": "text/x-python",
   "name": "python",
   "nbconvert_exporter": "python",
   "pygments_lexer": "ipython2",
   "version": "2.7.6"
  },
  "kernelspec": {
   "name": "python3",
   "language": "python",
   "display_name": "Python 3"
  },
  "pycharm": {
   "stem_cell": {
    "cell_type": "raw",
    "source": [],
    "metadata": {
     "collapsed": false
    }
   }
  }
 },
 "nbformat": 4,
 "nbformat_minor": 0
}