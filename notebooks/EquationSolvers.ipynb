{
 "cells": [
  {
   "cell_type": "markdown",
   "source": [
    "# Linear equation system solving techniques comparison\n",
    "\n"
   ],
   "metadata": {
    "collapsed": false
   }
  },
  {
   "cell_type": "code",
   "execution_count": 74,
   "outputs": [],
   "source": [
    "import numpy as np\n",
    "import math\n",
    "import datetime as dt\n",
    "import matplotlib as mpl\n",
    "import matplotlib.pyplot as plt\n"
   ],
   "metadata": {
    "pycharm": {
     "metadata": false,
     "name": "#%% \n",
     "is_executing": false
    }
   }
  },
  {
   "cell_type": "markdown",
   "source": [
    "<h4> \n",
    "\n",
    "    <i>\n",
    "        index = 172110 </br>\n",
    "        c = 1\n",
    "        </br>\n",
    "        d = 0\n",
    "        </br>\n",
    "        e = 1 \n",
    "        </br>\n",
    "        f = 2\n",
    "        </br>\n",
    "        9cd = 910\n",
    "    </i>\n",
    "</h4>\n",
    "\n",
    "**Exercise A**\n"
   ],
   "metadata": {
    "pycharm": {
     "metadata": false,
     "name": "#%% md\n"
    }
   }
  },
  {
   "cell_type": "code",
   "execution_count": 58,
   "outputs": [],
   "source": [
    "N = 300\n",
    "iter_limit = 100\n",
    "epsilon = 10.0 ** (-6)\n",
    "f = 2\n",
    "e = 1\n",
    "a1 = a2 = a3 = 0\n",
    "\n",
    "def init_a_exercise():\n",
    "    global a1, a2, a3, iter_limit\n",
    "    a1 = 5 + e\n",
    "    a2 = a3 = -1\n",
    "    iter_limit = 50\n",
    "\n"
   ],
   "metadata": {
    "pycharm": {
     "metadata": false,
     "name": "#%%\n",
     "is_executing": false
    }
   }
  },
  {
   "cell_type": "markdown",
   "source": [
    "**Striped matrix generating function**\n"
   ],
   "metadata": {
    "pycharm": {
     "metadata": false,
     "name": "#%% md\n"
    }
   }
  },
  {
   "cell_type": "code",
   "execution_count": 59,
   "outputs": [],
   "source": [
    "def generate_striped_matrix(size: int):\n",
    "    array = np.ndarray(shape=(size,size))\n",
    "    # wybór elementu na diagonali (i,i)\n",
    "    for i in range(size):\n",
    "        # wybór 2 elementy przed, diagonal i 2 elementy za diagonalą\n",
    "        for j in range(size):\n",
    "            if 0 <= j < size:\n",
    "                if abs(i - j) == 2:\n",
    "                    array[i][j] = a3\n",
    "                elif abs(i - j) == 1:\n",
    "                    array[i][j] = a2\n",
    "                elif i == j:\n",
    "                    array[i][j] = a1\n",
    "                else:\n",
    "                    array[i][j] = 0\n",
    "    return array\n",
    "                \n",
    "\n"
   ],
   "metadata": {
    "pycharm": {
     "metadata": false,
     "name": "#%%\n",
     "is_executing": false
    }
   }
  },
  {
   "cell_type": "markdown",
   "source": [
    "**Residue vector second norm calculation**\n"
   ],
   "metadata": {
    "pycharm": {
     "metadata": false
    }
   }
  },
  {
   "cell_type": "code",
   "execution_count": 60,
   "outputs": [],
   "source": [
    "def calculate_residue_vector_norm(A: np.ndarray, x: np.ndarray, B: np.ndarray):\n",
    "    n_size = A.shape[0]\n",
    "    residue_norm = 0.0\n",
    "    for i in range(n_size):\n",
    "        row = 0.0\n",
    "        for j in range(n_size):\n",
    "            row += A[i][j] * x[j]\n",
    "        row -= B[i]\n",
    "        residue_norm += row ** 2\n",
    "    return math.sqrt(residue_norm)\n",
    "    \n",
    "\n"
   ],
   "metadata": {
    "pycharm": {
     "metadata": false,
     "name": "#%%\n",
     "is_executing": false
    }
   }
  },
  {
   "cell_type": "markdown",
   "source": [
    "**Timing functions**"
   ],
   "metadata": {
    "pycharm": {
     "metadata": false,
     "name": "#%% md\n"
    }
   }
  },
  {
   "cell_type": "code",
   "execution_count": 61,
   "outputs": [],
   "source": [
    "starting_time: dt.datetime\n",
    "def tic():\n",
    "    global starting_time\n",
    "    starting_time = dt.datetime.now()\n",
    "    \n",
    "def toc() -> dt.timedelta:\n",
    "    time_diff = dt.datetime.now() - starting_time \n",
    "    return time_diff\n"
   ],
   "metadata": {
    "pycharm": {
     "metadata": false,
     "name": "#%%\n",
     "is_executing": false
    }
   }
  },
  {
   "cell_type": "markdown",
   "source": [
    "**Function printing details about tested solution.**\n"
   ],
   "metadata": {
    "pycharm": {
     "metadata": false,
     "name": "#%% md\n"
    }
   }
  },
  {
   "cell_type": "code",
   "execution_count": 68,
   "outputs": [],
   "source": [
    "def print_details(A: np.ndarray, B: np.ndarray, x: np.ndarray, iteration_count: int, time: dt.timedelta):\n",
    "    print()\n",
    "    print(\"Residue vector second norm value: \", calculate_residue_vector_norm(A, x, B))\n",
    "    print(\"Minutes: \", int(time.seconds / 60), \"seconds: \", time.seconds % 60)\n",
    "    print(\"Iteration count: \", iteration_count)\n",
    "    print(\"Time per iteration in seconds: \", time.seconds / iteration_count)\n",
    "\n"
   ],
   "metadata": {
    "pycharm": {
     "metadata": false,
     "name": "#%%\n",
     "is_executing": false
    }
   }
  },
  {
   "cell_type": "markdown",
   "source": [
    "**Matrix initialization**\n"
   ],
   "metadata": {
    "pycharm": {
     "metadata": false
    }
   }
  },
  {
   "cell_type": "code",
   "execution_count": 64,
   "outputs": [],
   "source": [
    "B: np.ndarray\n",
    "A: np.ndarray\n",
    "x: np.ndarray\n",
    "\n",
    "def generate_equation_system():\n",
    "    global A\n",
    "    global B   \n",
    "    global x\n",
    "    \n",
    "    # Wektor pobudzenia\n",
    "    B = np.ndarray(shape=(N, 1), dtype=float)\n",
    "    for i in range(N):\n",
    "        B[i] = math.sin(i * (f + 1))\n",
    "    \n",
    "    # Macierz systemowa\n",
    "    A = generate_striped_matrix(N)\n",
    "    \n",
    "    # Macierz rozwiązań przybliżonych. Zawiera początkowe przybliżenie a później przyjmuje wartości nadane przez\n",
    "    # metody iteracyjne.\n",
    "    x = np.ndarray(shape=(N, 1), dtype=float)\n",
    "    for i in range(N):\n",
    "        x[i] = 0\n",
    "\n",
    "\n"
   ],
   "metadata": {
    "pycharm": {
     "metadata": false,
     "name": "#%%\n",
     "is_executing": false
    }
   }
  },
  {
   "cell_type": "markdown",
   "source": [
    "# Exercise B\n",
    "\n",
    "**Jacobi's method**"
   ],
   "metadata": {
    "pycharm": {
     "metadata": false,
     "name": "#%% md\n"
    }
   }
  },
  {
   "cell_type": "code",
   "execution_count": 65,
   "outputs": [],
   "source": [
    "def jacobis_next_iteration(matrix: np.ndarray, b_vec: np.ndarray, estimates: np.ndarray) -> np.ndarray:\n",
    "    this_iteration: np.ndarray = np.ndarray(shape=(estimates.shape[0],1))\n",
    "    for i in range(matrix.shape[0]):\n",
    "        # Copy of the i-th equation coefficients\n",
    "        curr_equation = matrix[i].copy()\n",
    "        # The coefficient of the x which we're currently we're estimating new value for.\n",
    "        curr_calc_coeff = curr_equation[i]\n",
    "        # Inserting the b vector value into the equation.\n",
    "        new_x = - b_vec[i]\n",
    "        for j in range(curr_equation.shape[0]):\n",
    "            # for every variable except the one we're currently calculating -> (a1 * x1 + ... + an * xn - b)/ aj = xj \n",
    "            if j != i:\n",
    "                # eq[j] is the coefficient of x(j) and estimates[j] is the previous value of the x(j)\n",
    "                new_x += curr_equation[j] * estimates[j]\n",
    "        this_iteration[i] = new_x / - curr_calc_coeff\n",
    "    return this_iteration\n",
    "\n",
    "\n",
    "\n"
   ],
   "metadata": {
    "pycharm": {
     "metadata": false,
     "name": "#%%\n",
     "is_executing": false
    }
   }
  },
  {
   "cell_type": "markdown",
   "source": [
    "**Gauss-Seidl's method.**\n"
   ],
   "metadata": {
    "pycharm": {
     "metadata": false,
     "name": "#%% md\n",
     "is_executing": false
    }
   }
  },
  {
   "cell_type": "code",
   "execution_count": 66,
   "outputs": [],
   "source": [
    "def gauss_seidl_next_iteration(matrix: np.ndarray, b_vec: np.ndarray, estimates: np.ndarray) -> np.ndarray:\n",
    "    this_iteration: np.ndarray = np.ndarray(shape=(estimates.shape[0],1))\n",
    "    for i in range(matrix.shape[0]):\n",
    "        # Copy of the i-th equation coefficients\n",
    "        current_equation = matrix[i].copy()\n",
    "        # The coefficient of the x which we're calculating new value for\n",
    "        curr_calc_coeff = current_equation[i]\n",
    "        # Inserting the b vector value into the equation\n",
    "        new_x = - b_vec[i]\n",
    "        for j in range(i):\n",
    "            new_x += current_equation[j] * this_iteration[j]\n",
    "        for j in range(i + 1, matrix.shape[0]):\n",
    "            new_x += current_equation[j] * estimates[j]\n",
    "        this_iteration[i] = new_x / - curr_calc_coeff\n",
    "    return this_iteration\n",
    "\n",
    "\n",
    "\n",
    "\n",
    "    "
   ],
   "metadata": {
    "pycharm": {
     "metadata": false,
     "name": "#%%\n",
     "is_executing": false
    }
   }
  },
  {
   "cell_type": "markdown",
   "source": [
    "**Testing the Jacobi's method on data from exercise A**\n"
   ],
   "metadata": {
    "pycharm": {
     "metadata": false
    }
   }
  },
  {
   "cell_type": "code",
   "execution_count": 69,
   "outputs": [
    {
     "name": "stdout",
     "text": [
      ".",
      ".",
      ".",
      ".",
      ".",
      ".",
      ".",
      ".",
      ".",
      ".",
      ".",
      ".",
      ".",
      ".",
      ".",
      ".",
      ".",
      ".",
      ".",
      ".",
      ".",
      ".",
      ".",
      ".\n",
      "Residue vector second norm value:  8.140195485706073e-07\nMinutes:  0 seconds:  11\nIteration count:  24\nTime per iteration in seconds:  0.4583333333333333\n"
     ],
     "output_type": "stream"
    }
   ],
   "source": [
    "init_a_exercise()\n",
    "generate_equation_system()\n",
    "tic()\n",
    "\n",
    "residue_vector_norm = calculate_residue_vector_norm(A, x, B)\n",
    "i = 0\n",
    "while residue_vector_norm > epsilon and i < iter_limit:\n",
    "    x = jacobis_next_iteration(A, B, x)\n",
    "    i += 1\n",
    "    residue_vector_norm = calculate_residue_vector_norm(A, x, B)\n",
    "    print(\".\", end=\"\")\n",
    "\n",
    "# Printing details about this method time, iteration count etc.\n",
    "print_details(A, B, x, i, toc())\n",
    "\n"
   ],
   "metadata": {
    "pycharm": {
     "metadata": false,
     "name": "#%%\n",
     "is_executing": false
    }
   }
  },
  {
   "cell_type": "markdown",
   "source": [
    "**Testing Gauss-Seidl's on data from A exercise**\n"
   ],
   "metadata": {
    "pycharm": {
     "metadata": false,
     "name": "#%% md\n"
    }
   }
  },
  {
   "cell_type": "code",
   "execution_count": 70,
   "outputs": [
    {
     "name": "stdout",
     "text": [
      ".",
      ".",
      ".",
      ".",
      ".",
      ".",
      ".",
      ".",
      ".",
      ".",
      ".",
      ".",
      ".",
      ".",
      ".",
      ".\n",
      "Residue vector second norm value:  7.696797973615508e-07\nMinutes:  0 seconds:  7\nIteration count:  16\nTime per iteration in seconds:  0.4375\n"
     ],
     "output_type": "stream"
    }
   ],
   "source": [
    "init_a_exercise()\n",
    "generate_equation_system()\n",
    "tic()\n",
    "\n",
    "\n",
    "# residue_vector_norm_values = [float]\n",
    "residue_vector_norm = calculate_residue_vector_norm(A, x, B)\n",
    "i = 0\n",
    "while  residue_vector_norm > epsilon and i < iter_limit:\n",
    "    x = gauss_seidl_next_iteration(A, B, x)\n",
    "    i += 1\n",
    "    residue_vector_norm = calculate_residue_vector_norm(A, x, B)\n",
    "    # residue_vector_norm_values.append(residue_vector_norm)\n",
    "    print(\".\", end=\"\")\n",
    "    \n",
    "# Printing details about this method time, iteration count etc.\n",
    "print_details(A, B, x, i, toc())\n",
    "\n"
   ],
   "metadata": {
    "pycharm": {
     "metadata": false,
     "name": "#%%\n",
     "is_executing": false
    }
   }
  },
  {
   "cell_type": "markdown",
   "source": [
    "The Gauss-Seidl's method consequently performs better than Jacobi's method. This is true both for iteration count\n",
    "and the time of a single iteration. This is partially due to the method of variables caching by the processor and \n",
    "the faster access the ones used more recently. However less efficient as sequential algorithm, the Jacobi's method\n",
    "is possible to run concurrently. \n",
    " \n",
    "\n"
   ],
   "metadata": {
    "collapsed": false,
    "pycharm": {
     "name": "#%% md\n"
    }
   }
  },
  {
   "cell_type": "markdown",
   "source": [
    "## Exercise C\n",
    "\n",
    "**Changing the coefficients used to generate equation system to match the specification of exercise C**"
   ],
   "metadata": {
    "pycharm": {
     "metadata": false,
     "name": "#%% md\n"
    }
   }
  },
  {
   "cell_type": "code",
   "execution_count": 71,
   "outputs": [],
   "source": [
    "\n",
    "def init_c_exercise():\n",
    "    global a1, a2, a3, iter_limit\n",
    "    a1 = 3\n",
    "    a2 = a3 = -1\n",
    "    iter_limit = 30\n"
   ],
   "metadata": {
    "pycharm": {
     "metadata": false,
     "name": "#%%\n",
     "is_executing": false
    }
   }
  },
  {
   "cell_type": "markdown",
   "source": [
    "**Testing the Jacobi's method on data from exercise C**\n"
   ],
   "metadata": {
    "pycharm": {
     "metadata": false
    }
   }
  },
  {
   "cell_type": "code",
   "execution_count": 79,
   "outputs": [
    {
     "name": "stdout",
     "text": [
      ".",
      ".",
      ".",
      ".",
      ".",
      ".",
      ".",
      ".",
      ".",
      ".",
      ".",
      ".",
      ".",
      ".",
      ".",
      ".",
      ".",
      ".",
      ".",
      ".",
      ".",
      ".",
      ".",
      ".",
      ".",
      ".",
      ".",
      ".",
      ".",
      ".\n",
      "Residue vector second norm value:  64.92804780786507\nMinutes:  0 seconds:  14\nIteration count:  30\nTime per iteration in seconds:  0.4666666666666667\n"
     ],
     "output_type": "stream"
    },
    {
     "data": {
      "text/plain": "<Figure size 432x288 with 1 Axes>",
      "image/png": "[encoded data removed]"
     },
     "metadata": {
      "needs_background": "light"
     },
     "output_type": "display_data"
    }
   ],
   "source": [
    "init_c_exercise()\n",
    "generate_equation_system()\n",
    "tic()\n",
    "\n",
    "i = 0\n",
    "residue_vector_norm = calculate_residue_vector_norm(A, x, B)\n",
    "next_norm_values = []\n",
    "while residue_vector_norm > epsilon and i < iter_limit:\n",
    "    x = jacobis_next_iteration(A, B, x)\n",
    "    residue_vector_norm = calculate_residue_vector_norm(A, x, B)\n",
    "    next_norm_values.append(residue_vector_norm)\n",
    "    i += 1\n",
    "    print(\".\", end=\"\")\n",
    "\n",
    "# Printing details about this method time, iteration count etc.\n",
    "print_details(A, B, x, i, toc())\n",
    "\n",
    "# Plotting the value of residue vector norm\n",
    "fig, ax = plt.subplots()\n",
    "ax.plot(range(1, i + 1), next_norm_values)\n",
    "\n",
    "ax.set(xlabel='Iteration', ylabel='Residue vector second norm',\n",
    "       title='Residue vector second norm values in next iterations')\n",
    "ax.grid()\n",
    "plt.show()\n"
   ],
   "metadata": {
    "pycharm": {
     "metadata": false,
     "name": "#%%\n",
     "is_executing": false
    }
   }
  },
  {
   "cell_type": "markdown",
   "source": [
    "The plot clearly shows that changed input matrix makes Jacobis method not suitable for solving \n",
    "this system. Residue vector increases each iteration, which means that the approximated\n",
    "solution vector won't converge.  \n",
    "\n",
    "\n"
   ],
   "metadata": {
    "collapsed": false,
    "pycharm": {
     "name": "#%% md\n"
    }
   }
  },
  {
   "cell_type": "markdown",
   "source": [
    "**Testing Gauss-Seidl's on data from C exercise**\n"
   ],
   "metadata": {
    "pycharm": {
     "metadata": false
    }
   }
  },
  {
   "cell_type": "code",
   "execution_count": 81,
   "outputs": [
    {
     "name": "stdout",
     "text": [
      ".",
      ".",
      ".",
      ".",
      ".",
      ".",
      ".",
      ".",
      ".",
      ".",
      ".",
      ".",
      ".",
      ".",
      ".",
      ".",
      ".",
      ".",
      ".",
      ".",
      ".",
      ".",
      ".",
      ".",
      ".",
      ".",
      ".",
      ".",
      ".",
      ".\n",
      "Residue vector second norm value:  1536159.86028818\nMinutes:  0 seconds:  14\nIteration count:  30\nTime per iteration in seconds:  0.4666666666666667\n"
     ],
     "output_type": "stream"
    },
    {
     "data": {
      "text/plain": "<Figure size 432x288 with 1 Axes>",
      "image/png": "[encoded data removed]"
     },
     "metadata": {
      "needs_background": "light"
     },
     "output_type": "display_data"
    }
   ],
   "source": [
    "init_c_exercise()\n",
    "generate_equation_system()\n",
    "tic()\n",
    "\n",
    "i = 0\n",
    "next_norm_values = []\n",
    "residue_vector_norm = calculate_residue_vector_norm(A, x, B)  \n",
    "while  residue_vector_norm > epsilon and i < iter_limit:\n",
    "    x = gauss_seidl_next_iteration(A, B, x)\n",
    "    residue_vector_norm = calculate_residue_vector_norm(A, x, B)\n",
    "    next_norm_values.append(residue_vector_norm)\n",
    "    i += 1\n",
    "    print(\".\", end=\"\")\n",
    "    \n",
    "# Printing details about this method time, iteration count etc.\n",
    "print_details(A, B, x, i, toc())\n",
    "\n",
    "\n",
    "# Plotting the value of residue vector norm\n",
    "fig, ax = plt.subplots()\n",
    "ax.plot(range(1, i + 1), next_norm_values)\n",
    "\n",
    "ax.set(xlabel='Iteration', ylabel='Residue vector second norm',\n",
    "       title='Residue vector second norm values in next iterations')\n",
    "ax.grid()\n",
    "plt.show()\n",
    "\n"
   ],
   "metadata": {
    "pycharm": {
     "metadata": false,
     "name": "#%%\n",
     "is_executing": false
    }
   }
  },
  {
   "cell_type": "markdown",
   "source": [
    "Gauss-Seidl's method also does have requirements regarding input matrix for it to converge.\n",
    "In this case those reqiurements are not met and the solution vector won't converge to accurate\n",
    "solution. The chart shows exponential growth of residue vector value in respect to iteration \n",
    "count.\n",
    "\n",
    "\n",
    "\n",
    "\n",
    "\n"
   ],
   "metadata": {
    "collapsed": false
   }
  },
  {
   "cell_type": "markdown",
   "source": [
    "## Exercise C\n",
    "\n",
    "**LU Factorization method**\n"
   ],
   "metadata": {
    "pycharm": {
     "metadata": false,
     "name": "#%% md\n"
    }
   }
  },
  {
   "cell_type": "code",
   "execution_count": 55,
   "outputs": [],
   "source": [
    "def matrix_decomposition(A: np.ndarray) -> (np.ndarray, np.ndarray):\n",
    "    m = A.shape[0]\n",
    "    U = A.copy()\n",
    "    L = np.identity(m)\n",
    "    for k in range(0, m - 1):\n",
    "        for j in range(k + 1, m):\n",
    "            L[j][k] = U[j][k]/U[k][k]\n",
    "            for i in range(k, m):\n",
    "                U[j][i] = U[j][i] - L[j][k]*U[k][i]\n",
    "    return L, U\n",
    "\n",
    "def forward_substitution(L: np.ndarray, B: np.ndarray) -> np.ndarray:\n",
    "    x = np.ndarray(shape=(L.shape[0],1))\n",
    "    for e in range(L.shape[0]):\n",
    "        curr_calc_coeff_val = 0.0\n",
    "        curr_eq = L[e].copy()\n",
    "        # adding every calculated coeff so far\n",
    "        for i in range(e):\n",
    "            curr_calc_coeff_val -= curr_eq[i] * x[i]\n",
    "        x[e] = B[e] + curr_calc_coeff_val\n",
    "    return x\n",
    "\n",
    "def backward_substitution(U: np.ndarray, y: np.ndarray) -> np.ndarray:\n",
    "    n = U.shape[0]\n",
    "    x = np.ndarray(shape=(n, 1))\n",
    "    for e in range(n):\n",
    "        curr_calc_coeff_val = 0.0\n",
    "        curr_eq = U[-(e+1)].copy()\n",
    "        # adding every calculated coeff so far\n",
    "        for i in range(e):\n",
    "            curr_calc_coeff_val -= curr_eq[-(i+1)] * x[-(i+1)]\n",
    "        x[-(e+1)] = (y[-(e+1)] + curr_calc_coeff_val) / curr_eq[-(e+1)]\n",
    "    return x\n",
    "        \n",
    "    \n",
    "def solve_lu_equation(L: np.ndarray, U: np.ndarray, B: np.ndarray) -> np.ndarray:\n",
    "    n = L.shape[0]\n",
    "    # LUx = b -> L(Ux) = b\n",
    "    # Ly = b && y = Ux\n",
    "    # Solving for y\n",
    "    y = forward_substitution(L, B)\n",
    "    x = backward_substitution(U, y)\n",
    "    return x\n"
   ],
   "metadata": {
    "collapsed": false,
    "pycharm": {
     "name": "#%%\n",
     "is_executing": false
    }
   }
  },
  {
   "cell_type": "markdown",
   "source": [
    "**LU Factorization method testing**\n",
    "            "
   ],
   "metadata": {
    "pycharm": {
     "metadata": false,
     "name": "#%% md\n"
    }
   }
  },
  {
   "cell_type": "code",
   "execution_count": 57,
   "outputs": [
    {
     "name": "stdout",
     "text": [
      "Residue vector norm value:  7.245968407401433e-15\n"
     ],
     "output_type": "stream"
    }
   ],
   "source": [
    "init_c_exercise()\n",
    "generate_equation_system()\n",
    "L, U = matrix_decomposition(A)\n",
    "\n",
    "x = solve_lu_equation(L,U,B)\n",
    "\n",
    "print(\"Residue vector norm value: \", calculate_residue_vector_norm(A, x, B))\n"
   ],
   "metadata": {
    "pycharm": {
     "metadata": false,
     "name": "#%%\n",
     "is_executing": false
    }
   }
  },
  {
   "cell_type": "markdown",
   "source": [
    "LU Factorization is a direct method of solving equations and therefore the requirements \n",
    "posed by the iterative methods do not hold. Equation system from ex.C is solved by LU Factorization \n",
    "method almost perfectly accurate (using floats account for the imperfection).\n",
    "\n",
    "\n"
   ],
   "metadata": {
    "collapsed": false,
    "pycharm": {
     "name": "#%% md\n"
    }
   }
  },
  {
   "cell_type": "markdown",
   "source": [
    "Initializing last exercise\n"
   ],
   "metadata": {
    "collapsed": false,
    "pycharm": {
     "name": "#%% md\n"
    }
   }
  },
  {
   "cell_type": "code",
   "execution_count": null,
   "outputs": [
    {
     "name": "stdout",
     "text": [
      "100 x 100: \nCurrent iteration:  1\nCurrent iteration:  2\nCurrent iteration:  3\n",
      "Current iteration:  4\nCurrent iteration:  5\nCurrent iteration:  6\nCurrent iteration:  7\n",
      "Current iteration:  8\nCurrent iteration:  9\nCurrent iteration:  10\nCurrent iteration:  11\n",
      "Current iteration:  12\nCurrent iteration:  13\nCurrent iteration:  14\nCurrent iteration:  15\n",
      "Current iteration:  16\nCurrent iteration:  17\nCurrent iteration:  18\nCurrent iteration:  19\nCurrent iteration:  20\n",
      "Current iteration:  21\nCurrent iteration:  22\nCurrent iteration:  23\nCurrent iteration:  24\nResidue vector second norm value: ",
      " 8.124472480419429e-07\nMinutes:  0 seconds:  1\nTime per iteration in seconds:  0.041666666666666664\n500 x 500\n",
      "Iterations passed:  1\n",
      "Iterations passed:  2\n",
      "Iterations passed:  3\n",
      "Iterations passed:  4\n",
      "Iterations passed:  5\n",
      "Iterations passed:  6\n",
      "Iterations passed:  7\n",
      "Iterations passed:  8\n",
      "Iterations passed:  9\n",
      "Iterations passed:  10\n",
      "Iterations passed:  11\n",
      "Iterations passed:  12\n",
      "Iterations passed:  13\n",
      "Iterations passed:  14\n",
      "Iterations passed:  15\n",
      "Iterations passed:  16\n",
      "Residue vector second norm value:  7.694682423834141e-07\nMinutes:  0 seconds:  22\nTime per iteration in seconds:  1.375\n1000 x 1000: \n",
      "Current iteration:  1\n",
      "Current iteration:  2\n",
      "Current iteration:  3\n",
      "Current iteration:  4\n",
      "Current iteration:  5\n",
      "Current iteration:  6\n",
      "Current iteration:  7\n",
      "Current iteration:  8\n",
      "Current iteration:  9\n",
      "Current iteration:  10\n",
      "Current iteration:  11\n",
      "Current iteration:  12\n",
      "Current iteration:  13\n",
      "Current iteration:  14\n",
      "Current iteration:  15\n",
      "Current iteration:  16\n",
      "Current iteration:  17\n",
      "Current iteration:  18\n",
      "Current iteration:  19\n",
      "Current iteration:  20\n",
      "Residue vector second norm value:  6.726176828788957e-07\nMinutes:  1 seconds:  51\nTime per iteration in seconds:  5.55\n2000 x 2000: \n",
      "Iterations passed:  1\n",
      "Iterations passed:  2\n",
      "Iterations passed:  3\n",
      "Iterations passed:  4\n",
      "Iterations passed:  5\n",
      "Iterations passed:  6\n",
      "Iterations passed:  7\n",
      "Iterations passed:  8\n",
      "Iterations passed:  9\n",
      "Iterations passed:  10\n",
      "Iterations passed:  11\n",
      "Iterations passed:  12\n",
      "Iterations passed:  13\n",
      "Iterations passed:  14\n",
      "Iterations passed:  15\n",
      "Residue vector second norm value:  5.553579765644092e-07\nMinutes:  5 seconds:  36\nTime per iteration in seconds:  22.4\n3000 x 3000: \n"
     ],
     "output_type": "stream"
    }
   ],
   "source": [
    "\n",
    "jacobis = []\n",
    "gauss = []\n",
    "\n",
    "print(\"100 x 100: \")\n",
    "N =  100\n",
    "init_a_exercise()\n",
    "generate_equation_system()\n",
    "tic()\n",
    "\n",
    "residue_vector_norm = calculate_residue_vector_norm(A, x, B)\n",
    "i = 0\n",
    "while residue_vector_norm > epsilon and i < iter_limit:\n",
    "    x = jacobis_next_iteration(A, B, x)\n",
    "    i += 1\n",
    "    residue_vector_norm = calculate_residue_vector_norm(A, x, B)\n",
    "    print(\"Current iteration: \", i)\n",
    "\n",
    "jacobis.append(toc())\n",
    "# print_details(A, B, x, i, toc())\n",
    "\n",
    "\n",
    "init_a_exercise()\n",
    "generate_equation_system()\n",
    "tic()\n",
    "\n",
    "residue_vector_norm = calculate_residue_vector_norm(A, x, B)\n",
    "i = 0\n",
    "while residue_vector_norm > epsilon and i < iter_limit:\n",
    "    x = gauss_seidl_next_iteration(A, B, x)\n",
    "    i += 1\n",
    "    residue_vector_norm = calculate_residue_vector_norm(A, x, B)\n",
    "    print(\"Current iteration: \", i)\n",
    "\n",
    "# print_details(A, B, x, i, toc())\n",
    "\n",
    "gauss.append(toc())\n",
    "\n",
    "\n",
    "\n",
    "print(\"500 x 500\")\n",
    "N = 500  \n",
    "\n",
    "init_a_exercise()\n",
    "generate_equation_system()\n",
    "tic()\n",
    "\n",
    "\n",
    "residue_vector_norm = calculate_residue_vector_norm(A, x, B)\n",
    "i = 0\n",
    "while residue_vector_norm > epsilon and i < iter_limit:\n",
    "    x = jacobis_next_iteration(A, B, x)\n",
    "    i += 1\n",
    "    residue_vector_norm = calculate_residue_vector_norm(A, x, B)\n",
    "    print(\"Iterations passed: \", i)\n",
    "    \n",
    "# print_details(A, B, x, i, toc())\n",
    "jacobis.append(toc())\n",
    "\n",
    "\n",
    "generate_equation_system()\n",
    "tic()\n",
    "\n",
    "residue_vector_norm = calculate_residue_vector_norm(A, x, B)\n",
    "i = 0\n",
    "while residue_vector_norm > epsilon and i < iter_limit:\n",
    "    x = gauss_seidl_next_iteration(A, B, x)\n",
    "    i += 1\n",
    "    residue_vector_norm = calculate_residue_vector_norm(A, x, B)\n",
    "    # residue_vector_norm_values.append(residue_vector_norm)\n",
    "    print(\"Iterations passed: \", i)\n",
    "    \n",
    "# Printing details about this method time, iteration count etc.\n",
    "# print_details(A, B, x, i, toc())\n",
    "gauss.append(toc())\n",
    "\n",
    "\n",
    "\n",
    "\n",
    "\n",
    "\n",
    "\n",
    "print(\"1000 x 1000: \")\n",
    "\n",
    "\n",
    "N = 1000  \n",
    "\n",
    "init_a_exercise()\n",
    "generate_equation_system()\n",
    "tic()\n",
    "residue_vector_norm = calculate_residue_vector_norm(A, x, B)\n",
    "i = 0\n",
    "while residue_vector_norm > epsilon and i < iter_limit:\n",
    "    x = jacobis_next_iteration(A, B, x)\n",
    "    i += 1\n",
    "    residue_vector_norm = calculate_residue_vector_norm(A, x, B)\n",
    "    print(\"Current iteration: \", i)\n",
    "\n",
    "# Printing details about this method time, iteration count etc.\n",
    "# print_details(A, B, x, i, toc())\n",
    "jacobis.append(toc())\n",
    "\n",
    "\n",
    "init_a_exercise()\n",
    "generate_equation_system()\n",
    "tic()\n",
    "residue_vector_norm = calculate_residue_vector_norm(A, x, B)\n",
    "i = 0\n",
    "while residue_vector_norm > epsilon and i < iter_limit:\n",
    "    x = gauss_seidl_next_iteration(A, B, x)\n",
    "    i += 1\n",
    "    residue_vector_norm = calculate_residue_vector_norm(A, x, B)\n",
    "    print(\"Current iteration: \", i)\n",
    "\n",
    "# Printing details about this method time, iteration count etc.\n",
    "# print_details(A, B, x, i, toc())\n",
    "gauss.append(toc())\n",
    "\n",
    "\n",
    "\n",
    "\n",
    "\n",
    "\n",
    "print(\"2000 x 2000: \")\n",
    "\n",
    "N = 2000  \n",
    "\n",
    "init_a_exercise()\n",
    "generate_equation_system()\n",
    "tic()\n",
    "# residue_vector_norm_values = [float]\n",
    "residue_vector_norm = calculate_residue_vector_norm(A, x, B)\n",
    "i = 0\n",
    "while residue_vector_norm > epsilon and i < iter_limit:\n",
    "    x = jacobis_next_iteration(A, B, x)\n",
    "    i += 1\n",
    "    residue_vector_norm = calculate_residue_vector_norm(A, x, B)\n",
    "    # residue_vector_norm_values.append(residue_vector_norm)\n",
    "    print(\"Iterations passed: \", i)\n",
    "    \n",
    "# Printing details about this method time, iteration count etc.\n",
    "# print_details(A, B, x, i, toc())\n",
    "jacobis.append(toc())\n",
    "\n",
    "\n",
    "\n",
    "init_a_exercise()\n",
    "generate_equation_system()\n",
    "tic()\n",
    "residue_vector_norm = calculate_residue_vector_norm(A, x, B)\n",
    "i = 0\n",
    "while residue_vector_norm > epsilon and i < iter_limit:\n",
    "    x = gauss_seidl_next_iteration(A, B, x)\n",
    "    i += 1\n",
    "    residue_vector_norm = calculate_residue_vector_norm(A, x, B)\n",
    "    # residue_vector_norm_values.append(residue_vector_norm)\n",
    "    print(\"Iterations passed: \", i)\n",
    "    \n",
    "# Printing details about this method time, iteration count etc.\n",
    "# print_details(A, B, x, i, toc())\n",
    "gauss.append(toc())\n",
    "\n",
    "\n",
    "\n"
   ],
   "metadata": {
    "collapsed": false,
    "pycharm": {
     "name": "#%%\n",
     "is_executing": true
    }
   }
  },
  {
   "cell_type": "code",
   "execution_count": 37,
   "outputs": [
    {
     "name": "stdout",
     "text": [
      "3000 x 3000: \n",
      "Current iteration:  1\n",
      "Current iteration:  2\n",
      "Current iteration:  3\n",
      "Current iteration:  4\n",
      "Current iteration:  5\n",
      "Current iteration:  6\n",
      "Current iteration:  7\n",
      "Current iteration:  8\n",
      "Current iteration:  9\n",
      "Current iteration:  10\n",
      "Current iteration:  11\n",
      "Current iteration:  12\n",
      "Current iteration:  13\n",
      "Current iteration:  14\n",
      "Current iteration:  15\n",
      "Current iteration:  16\n",
      "Current iteration:  17\n",
      "Current iteration:  18\n",
      "Current iteration:  19\n",
      "Current iteration:  20\n",
      "Current iteration:  21\n",
      "Current iteration:  22\n",
      "Current iteration:  23\n",
      "Residue vector second norm value:  6.878638859433061e-07\nMinutes:  19 seconds:  7\nTime per iteration in seconds:  49.869565217391305\n"
     ],
     "output_type": "stream"
    }
   ],
   "source": [
    "print(\"3000 x 3000: \")\n",
    "\n",
    "N = 3000\n",
    "init_a_exercise()\n",
    "generate_equation_system()\n",
    "\n",
    "tic()\n",
    "residue_vector_norm = calculate_residue_vector_norm(A, x, B)\n",
    "i = 0\n",
    "while residue_vector_norm > epsilon and i < iter_limit:\n",
    "    x = jacobis_next_iteration(A, B, x)\n",
    "    i += 1\n",
    "    residue_vector_norm = calculate_residue_vector_norm(A, x, B)\n",
    "    print(\"Current iteration: \", i)\n",
    "\n",
    "# Printing details about this method time, iteration count etc.\n",
    "# print_details(A, B, x, i, toc())\n",
    "jacobis.append(toc())\n",
    "\n",
    "\n",
    "\n",
    "init_a_exercise()\n",
    "generate_equation_system()\n",
    "\n",
    "tic()\n",
    "residue_vector_norm = calculate_residue_vector_norm(A, x, B)\n",
    "i = 0\n",
    "while residue_vector_norm > epsilon and i < iter_limit:\n",
    "    x = gauss_seidl_next_iteration(A, B, x)\n",
    "    i += 1\n",
    "    residue_vector_norm = calculate_residue_vector_norm(A, x, B)\n",
    "    print(\"Current iteration: \", i)\n",
    "\n",
    "# Printing details about this method time, iteration count etc.\n",
    "print_details(A, B, x, i, toc())\n",
    "gauss.append(toc())\n",
    "\n",
    "\n",
    "# Plotting the value of residue vector norm\n",
    "fig, ax = plt.subplots()\n",
    "its = [100,500,1000,2000,3000]\n",
    "\n",
    "ax.plot(its, jacobis)\n",
    "\n",
    "ax.set(xlabel='Matrix size', ylabel='Time to meet specified precision',\n",
    "       title='Calculation time in respect to input matrix size (Jacobis)')\n",
    "ax.grid()\n",
    "plt.show()\n",
    "\n",
    "\n",
    "fig, ax = plt.subplots()\n",
    "\n",
    "ax.plot(its, gauss)\n",
    "\n",
    "ax.set(xlabel='Matrix size', ylabel='Time to meet specified precision',\n",
    "       title='Calculation time in respect to input matrix size (Gauss)')\n",
    "ax.grid()\n",
    "plt.show()\n",
    "\n",
    "\n"
   ],
   "metadata": {
    "collapsed": false,
    "pycharm": {
     "name": "#%%\n",
     "is_executing": false
    }
   }
  },
  {
   "cell_type": "markdown",
   "source": [
    "<h1>Summary</h1>\n"
   ],
   "metadata": {
    "collapsed": false,
    "pycharm": {
     "name": "#%% md\n"
    }
   }
  }
 ],
 "metadata": {
  "language_info": {
   "codemirror_mode": {
    "name": "ipython",
    "version": 2
   },
   "file_extension": ".py",
   "mimetype": "text/x-python",
   "name": "python",
   "nbconvert_exporter": "python",
   "pygments_lexer": "ipython2",
   "version": "2.7.6"
  },
  "kernelspec": {
   "name": "python3",
   "language": "python",
   "display_name": "Python 3"
  },
  "pycharm": {
   "stem_cell": {
    "cell_type": "raw",
    "source": [],
    "metadata": {
     "collapsed": false
    }
   }
  }
 },
 "nbformat": 4,
 "nbformat_minor": 0
}