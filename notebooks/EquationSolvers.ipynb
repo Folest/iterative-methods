{
  "cells": [
    {
      "cell_type": "markdown",
      "metadata": {
        "collapsed": true,
        "pycharm": {
          "name": "#%% md\n"
        }
      },
      "source": "# Linear equation system solving techniques comparison\n\n"
    },
    {
      "cell_type": "code",
      "execution_count": 2,
      "outputs": [],
      "source": "import numpy as np\nimport math\nimport datetime as dt\nimport matplotlib as mpl\n",
      "metadata": {
        "pycharm": {
          "metadata": false,
          "name": "#%% \n",
          "is_executing": false
        }
      }
    },
    {
      "cell_type": "markdown",
      "source": "\u003ch4\u003e \n    \u003ci\u003e\n        index \u003d 172110 \u003c/br\u003e\n        c \u003d 1\n        \u003c/br\u003e\n        d \u003d 0\n        \u003c/br\u003e\n        e \u003d 1 \n        \u003c/br\u003e\n        f \u003d 2\n        \u003c/br\u003e\n        9cd \u003d 910\n    \u003c/i\u003e\n\u003c/h4\u003e\n\n**Exercise A**\n",
      "metadata": {
        "pycharm": {
          "metadata": false,
          "name": "#%% md\n"
        }
      }
    },
    {
      "cell_type": "code",
      "execution_count": 1,
      "outputs": [],
      "source": "N \u003d 300\niter_limit \u003d 20\nzero_approx \u003d 10.0 ** (-6)\nf \u003d 2\ne \u003d 1\na1 \u003d a2 \u003d a3 \u003d 0\n\ndef init_a_exercise():\n    global a1, a2, a3\n    a1 \u003d 5 + e\n    a2 \u003d a3 \u003d -1\n\n\n\n",
      "metadata": {
        "pycharm": {
          "metadata": false,
          "name": "#%%\n",
          "is_executing": false
        }
      }
    },
    {
      "cell_type": "markdown",
      "source": "**Striped matrix generating function**\n",
      "metadata": {
        "pycharm": {
          "metadata": false,
          "name": "#%% md\n"
        }
      }
    },
    {
      "cell_type": "code",
      "execution_count": 3,
      "outputs": [],
      "source": "def striped_matrix_value(x: int, y: int) -\u003e float:\n    if x \u003d\u003d y:\n        return a1\n    if x \u003d\u003d y - 1:\n        return a2\n    if x \u003d\u003d y - 2:\n        return a3\n    \n    if x \u003d\u003d y + 1:\n        return a2\n    if x \u003d\u003d y + 2:\n        return a3\n    return 0\n\n\n\n",
      "metadata": {
        "pycharm": {
          "metadata": false,
          "name": "#%%\n",
          "is_executing": false
        }
      }
    },
    {
      "cell_type": "markdown",
      "source": "**Residue vector second norm calculation**\n",
      "metadata": {
        "pycharm": {
          "metadata": false
        }
      }
    },
    {
      "cell_type": "code",
      "execution_count": 4,
      "outputs": [],
      "source": "def calculate_residue_vector_norm(A: np.ndarray, x: np.ndarray, B: np.ndarray):\n    n_size \u003d A.shape[0]\n    residue_norm \u003d 0.0\n    for i in range(n_size):\n        row \u003d 0.0\n        for j in range(n_size):\n            row +\u003d A[i][j] * x[j]\n        row -\u003d B[i]\n        residue_norm +\u003d row ** 2\n    return math.sqrt(residue_norm)\n    \n\n    \n    \n",
      "metadata": {
        "pycharm": {
          "metadata": false,
          "name": "#%%\n",
          "is_executing": false
        }
      }
    },
    {
      "cell_type": "markdown",
      "source": "**Timing functions**",
      "metadata": {
        "pycharm": {
          "metadata": false,
          "name": "#%% md\n"
        }
      }
    },
    {
      "cell_type": "code",
      "execution_count": 5,
      "outputs": [],
      "source": "starting_time: dt.datetime\ndef tic():\n    global starting_time\n    starting_time \u003d dt.datetime.now()\n    \ndef toc() -\u003e dt.timedelta:\n    time_diff \u003d dt.datetime.now() - starting_time \n    return time_diff\n",
      "metadata": {
        "pycharm": {
          "metadata": false,
          "name": "#%%\n",
          "is_executing": false
        }
      }
    },
    {
      "cell_type": "markdown",
      "source": "**Function printing details about tested solution.**\n",
      "metadata": {
        "pycharm": {
          "metadata": false,
          "name": "#%% md\n"
        }
      }
    },
    {
      "cell_type": "code",
      "execution_count": 6,
      "outputs": [],
      "source": "def print_details(A: np.ndarray, B: np.ndarray, x: np.ndarray, iteration_count: int, time: dt.timedelta):\n    print(\"Residue vector second norm value: \", calculate_residue_vector_norm(A, x, B))\n    print(\"Minutes: \", int(time.seconds / 60), \"seconds: \", time.seconds % 60)\n    print(\"Time per iteration in seconds: \", time.seconds / iteration_count)\n\n",
      "metadata": {
        "pycharm": {
          "metadata": false,
          "name": "#%%\n",
          "is_executing": false
        }
      }
    },
    {
      "cell_type": "markdown",
      "source": "**Matrix initialization**\n",
      "metadata": {
        "pycharm": {
          "metadata": false
        }
      }
    },
    {
      "cell_type": "code",
      "execution_count": 7,
      "outputs": [],
      "source": "B: np.ndarray\nA: np.ndarray\nx: np.ndarray\n\ndef generate_equation_system():\n    global A\n    global B   \n    global x\n    \n    B \u003d np.ndarray(shape\u003d(N, 1), dtype\u003dfloat)\n    for i in range(N):\n        B[i] \u003d math.sin(i * (f + 1))\n            \n    A \u003d np.ndarray(shape\u003d(N, N), dtype\u003dfloat)\n    for i in range(N):\n        for j in range(N):\n            A[i][j] \u003d striped_matrix_value(i,j)\n    \n    # Solution matrix\n    x \u003d np.ndarray(shape\u003d(N, 1), dtype\u003dfloat)\n    for i in range(N):\n        x[i] \u003d 0\n\n\n\n\n\n\n",
      "metadata": {
        "pycharm": {
          "metadata": false,
          "name": "#%%\n",
          "is_executing": false
        }
      }
    },
    {
      "cell_type": "markdown",
      "source": "# Exercise B\n\n**Jacobi\u0027s method**",
      "metadata": {
        "pycharm": {
          "metadata": false,
          "name": "#%% md\n"
        }
      }
    },
    {
      "cell_type": "code",
      "execution_count": 8,
      "outputs": [],
      "source": "def jacobis_next_iteration(matrix: np.ndarray, b_vec: np.ndarray, results: np.ndarray) -\u003e np.ndarray:\n    this_iteration: np.ndarray \u003d np.ndarray(shape\u003d(results.shape[0],1))\n    for i in range(matrix.shape[0]):\n        # Copy of the i-th equation coefficients\n        curr_equation \u003d matrix[i].copy()\n        # The coefficient of the x which we\u0027re calculating new value for\n        curr_calc_coeff \u003d curr_equation[i]\n        # Inserting the b vector value into the equation\n        new_x \u003d - b_vec[i]\n        for j in range(curr_equation.shape[0]):\n            # for every variable except the one we\u0027re currently calculating\n            if j !\u003d i:\n                # eq[j] is the coefficient of x(j) and results[j] is the previous value of the x(j)\n                new_x +\u003d curr_equation[j] * results[j]\n        this_iteration[i] \u003d new_x / - curr_calc_coeff\n    return this_iteration\n\n\n\n",
      "metadata": {
        "pycharm": {
          "metadata": false,
          "name": "#%%\n",
          "is_executing": false
        }
      }
    },
    {
      "cell_type": "markdown",
      "source": "**Gauss-Seidl\u0027s method.**\n",
      "metadata": {
        "pycharm": {
          "metadata": false,
          "name": "#%% md\n",
          "is_executing": false
        }
      }
    },
    {
      "cell_type": "code",
      "execution_count": 9,
      "outputs": [],
      "source": "def gauss_seidl_next_iteration(matrix: np.ndarray, b_vec: np.ndarray, results: np.ndarray) -\u003e np.ndarray:\n    this_iteration: np.ndarray \u003d np.ndarray(shape\u003d(results.shape[0],1))\n    for i in range(matrix.shape[0]):\n        # Copy of the i-th equation coefficients\n        current_equation \u003d matrix[i].copy()\n        # The coefficient of the x which we\u0027re calculating new value for\n        curr_calc_coeff \u003d current_equation[i]\n        # Inserting the b vector value into the equation\n        new_x \u003d - b_vec[i]\n        for j in range(i):\n            new_x +\u003d current_equation[j] * this_iteration[j]\n        for j in range(i + 1, matrix.shape[0]):\n            new_x +\u003d current_equation[j] * results[j]\n        this_iteration[i] \u003d new_x / - curr_calc_coeff\n    return this_iteration\n\n\n\n\n    ",
      "metadata": {
        "pycharm": {
          "metadata": false,
          "name": "#%%\n",
          "is_executing": false
        }
      }
    },
    {
      "cell_type": "markdown",
      "source": "**Testing the Jacobi\u0027s method on data from exercise A**\n",
      "metadata": {
        "pycharm": {
          "metadata": false
        }
      }
    },
    {
      "cell_type": "code",
      "execution_count": 28,
      "outputs": [
        {
          "name": "stdout",
          "text": [
            "Current iteration:  1\n",
            "Current iteration:  2\n",
            "Current iteration:  3\n",
            "Current iteration:  4\n",
            "Current iteration:  5\n",
            "Current iteration:  6\n",
            "Current iteration:  7\n",
            "Current iteration:  8\n",
            "Current iteration:  9\n",
            "Current iteration:  10\n",
            "Current iteration:  11\n",
            "Current iteration:  12\n",
            "Current iteration:  13\n",
            "Current iteration:  14\n",
            "Current iteration:  15\n",
            "Current iteration:  16\n",
            "Current iteration:  17\n",
            "Current iteration:  18\n",
            "Current iteration:  19\n",
            "Current iteration:  20\nMinutes: 0 seconds: 24\n",
            "Residue vector second norm value:  4.952872114495693\nMinutes:  0 seconds:  24\nTime per iteration in seconds:  1.2\n"
          ],
          "output_type": "stream"
        }
      ],
      "source": "init_a_exercise()\ngenerate_equation_system()\ntic()\n\ni \u003d 0\nresidue_vector_norm \u003d calculate_residue_vector_norm(A, x, B)\nwhile residue_vector_norm \u003e zero_approx and i \u003c iter_limit:\n    i +\u003d 1\n    x \u003d jacobis_next_iteration(A, B, x)\n    residue_vector_norm \u003d calculate_residue_vector_norm(A, x, B)\n    print(\"Current iteration: \", i)\n\n# Printing details about this method time, iteration count etc.\nprint_details(A, B, x, i, toc())\n\n",
      "metadata": {
        "pycharm": {
          "metadata": false,
          "name": "#%%\n",
          "is_executing": false
        }
      }
    },
    {
      "cell_type": "markdown",
      "source": "**Testing Gauss-Seidl\u0027s on data from A exercise**\n",
      "metadata": {
        "pycharm": {
          "metadata": false,
          "name": "#%% md\n"
        }
      }
    },
    {
      "cell_type": "code",
      "execution_count": 34,
      "outputs": [
        {
          "name": "stdout",
          "text": [
            "Iterations passed:  1\n",
            "Iterations passed:  2\n",
            "Iterations passed:  3\n",
            "Iterations passed:  4\n",
            "Iterations passed:  5\n",
            "Iterations passed:  6\n",
            "Iterations passed:  7\n",
            "Iterations passed:  8\n",
            "Iterations passed:  9\n",
            "Iterations passed:  10\n",
            "Iterations passed:  11\n",
            "Iterations passed:  12\n",
            "Iterations passed:  13\n",
            "Iterations passed:  14\n",
            "Iterations passed:  15\n",
            "Iterations passed:  16\nMinutes: 0 seconds: 19\n",
            "Residue vector second norm value:  7.696797973615507e-07\nMinutes:  0 seconds:  19\nTime per iteration in seconds:  1.1875\n"
          ],
          "output_type": "stream"
        }
      ],
      "source": "init_a_exercise()\ngenerate_equation_system()\ntic()\n\ni \u003d 0\nresidue_vector_norm_values \u003d [float]\nresidue_vector_norm \u003d calculate_residue_vector_norm(A, x, B)  \nwhile  residue_vector_norm \u003e zero_approx and i \u003c iter_limit:\n    i +\u003d 1\n    x \u003d gauss_seidl_next_iteration(A, B, x)\n    residue_vector_norm \u003d calculate_residue_vector_norm(A, x, B)\n    residue_vector_norm_values.append(residue_vector_norm)\n    print(\"Iterations passed: \", i)\n    \n# Printing details about this method time, iteration count etc.\nprint_details(A, B, x, i, toc())\n\n\n",
      "metadata": {
        "pycharm": {
          "metadata": false,
          "name": "#%%\n",
          "is_executing": false
        }
      }
    },
    {
      "cell_type": "markdown",
      "source": "## Exercise C\n\n**Changing the coefficients used to generate equation system to match the specification of exercise C**",
      "metadata": {
        "pycharm": {
          "metadata": false,
          "name": "#%% md\n"
        }
      }
    },
    {
      "cell_type": "code",
      "execution_count": 10,
      "outputs": [],
      "source": "\ndef init_c_exercise():\n    global a1, a2, a3\n    a1 \u003d 3\n    a2 \u003d a3 \u003d -1\n\n\n",
      "metadata": {
        "pycharm": {
          "metadata": false,
          "name": "#%%\n",
          "is_executing": false
        }
      }
    },
    {
      "cell_type": "markdown",
      "source": "**Testing the Jacobi\u0027s method on data from exercise C**\n",
      "metadata": {
        "pycharm": {
          "metadata": false
        }
      }
    },
    {
      "cell_type": "code",
      "execution_count": 35,
      "outputs": [
        {
          "name": "stdout",
          "text": [
            "Iterations passed:  1\n",
            "Iterations passed:  2\n",
            "Iterations passed:  3\n",
            "Iterations passed:  4\n",
            "Iterations passed:  5\n",
            "Iterations passed:  6\n",
            "Iterations passed:  7\n",
            "Iterations passed:  8\n",
            "Iterations passed:  9\n",
            "Iterations passed:  10\n",
            "Iterations passed:  11\n",
            "Iterations passed:  12\n",
            "Iterations passed:  13\n",
            "Iterations passed:  14\n",
            "Iterations passed:  15\n",
            "Iterations passed:  16\n",
            "Iterations passed:  17\n",
            "Iterations passed:  18\n",
            "Iterations passed:  19\n",
            "Iterations passed:  20\nMinutes: 0 seconds: 27\n",
            "Residue vector second norm value:  4.723426928054417e-06\nMinutes:  0 seconds:  27\nTime per iteration in seconds:  1.35\nMinutes: 0 seconds: 28\n"
          ],
          "output_type": "stream"
        },
        {
          "data": {
            "text/plain": "datetime.timedelta(seconds\u003d28, microseconds\u003d317842)"
          },
          "metadata": {},
          "output_type": "execute_result",
          "execution_count": 35
        }
      ],
      "source": "init_c_exercise()\ngenerate_equation_system()\ntic()\n\ni \u003d 0\nresidue_vector_norm \u003d calculate_residue_vector_norm(A, x, B)\nwhile residue_vector_norm \u003e zero_approx and i \u003c iter_limit:\n    i +\u003d 1\n    x \u003d jacobis_next_iteration(A, B, x)\n    residue_vector_norm \u003d calculate_residue_vector_norm(A, x, B)\n    print(\"Iterations passed: \", i)\n\n# Printing details about this method time, iteration count etc.\nprint_details(A, B, x, i, toc())\n\n",
      "metadata": {
        "pycharm": {
          "metadata": false,
          "name": "#%%\n",
          "is_executing": false
        }
      }
    },
    {
      "cell_type": "markdown",
      "source": "**Testing Gauss-Seidl\u0027s on data from C exercise**\n",
      "metadata": {
        "pycharm": {
          "metadata": false
        }
      }
    },
    {
      "cell_type": "code",
      "execution_count": 37,
      "outputs": [
        {
          "name": "stdout",
          "text": [
            "Iterations passed:  1\n",
            "Iterations passed:  2\n",
            "Iterations passed:  3\n",
            "Iterations passed:  4\n",
            "Iterations passed:  5\n",
            "Iterations passed:  6\n",
            "Iterations passed:  7\n",
            "Iterations passed:  8\n",
            "Iterations passed:  9\n",
            "Iterations passed:  10\n",
            "Iterations passed:  11\n",
            "Iterations passed:  12\n",
            "Iterations passed:  13\n",
            "Iterations passed:  14\n",
            "Iterations passed:  15\n",
            "Iterations passed:  16\n",
            "Iterations passed:  17\n",
            "Iterations passed:  18\n",
            "Iterations passed:  19\n",
            "Iterations passed:  20\nMinutes: 0 seconds: 27\n",
            "Residue vector second norm value:  1697.4207752729355\nMinutes:  0 seconds:  27\nTime per iteration in seconds:  1.35\n"
          ],
          "output_type": "stream"
        }
      ],
      "source": "init_c_exercise()\ngenerate_equation_system()\ntic()\n\ni \u003d 0\nresidue_vector_norm_values \u003d [float]\nresidue_vector_norm \u003d calculate_residue_vector_norm(A, x, B)  \nwhile  residue_vector_norm \u003e zero_approx and i \u003c iter_limit:\n    i +\u003d 1\n    x \u003d gauss_seidl_next_iteration(A, B, x)\n    residue_vector_norm \u003d calculate_residue_vector_norm(A, x, B)\n    residue_vector_norm_values.append(residue_vector_norm)\n    print(\"Iterations passed: \", i)\n    \n# Printing details about this method time, iteration count etc.\nprint_details(A, B, x, i, toc())\n\n",
      "metadata": {
        "pycharm": {
          "metadata": false,
          "name": "#%%\n",
          "is_executing": false
        }
      }
    },
    {
      "cell_type": "markdown",
      "source": "## Exercise C\n\n**LU Factorization method**\n\n*LU Decomposition*",
      "metadata": {
        "pycharm": {
          "metadata": false,
          "name": "#%% md\n"
        }
      }
    },
    {
      "cell_type": "code",
      "execution_count": 11,
      "outputs": [],
      "source": "\ndef decompose_matrix_in_place(A: np.ndarray):\n    # For every element on the main diagonal (the matrix has to be of shape NxN)\n    for k in range(A.shape[0]):\n        # Column normalization\n        for i in range(k+1, A.shape[0]):\n            if math.fabs(A[k][k]) \u003e\u003d zero_approx:\n                A[i][k] \u003d A[i][k] / A[k][k]\n            else:\n                print(\"An element too close to zero was placed on the diagonal\")\n                return  # the element on the main diagonal is too close to zero to continue operations\n        # Submatrix normalization\n        for i in range(k + 1, A.shape[0]):\n            for j in range(k + 1, A.shape[0]):\n                # Skipping the main diagonal\n                if i !\u003d j:\n                    A[i][j] -\u003d A[i][k] * A[k][j]\n\n",
      "metadata": {
        "pycharm": {
          "metadata": false,
          "name": "#%%\n",
          "is_executing": false
        }
      }
    },
    {
      "cell_type": "markdown",
      "source": "**Solving the decomposed system**\n",
      "metadata": {
        "pycharm": {
          "metadata": false,
          "name": "#%% md\n"
        }
      }
    },
    {
      "cell_type": "code",
      "execution_count": 24,
      "outputs": [],
      "source": "# this returns our theoretical z\ndef solve_L(LU: np.ndarray, b: np.ndarray) -\u003e np.ndarray:\n    sol \u003d np.zeros(shape\u003d(LU.shape[0], 1), dtype\u003dfloat)\n    # We assume that all elements of the main diagonal of the L matrix are \u003d 1\n    sol[0][0] \u003d b[0][0]\n    for i in range(1, LU.shape[0]):\n        for j in range(0, i):\n            sol[i][0] +\u003d sol[j][0] * LU[i][j]\n        sol[i][0] -\u003d b[i][0]\n    return sol\n        \n# this returns our x\ndef solve_U(LU: np.ndarray, z: np.ndarray) -\u003e np.ndarray:\n    n \u003d LU.shape[0]\n    \n    sol \u003d np.zeros(shape\u003d(n, 1), dtype\u003dfloat)\n    # n - 1 is the last index of matrix \u003d\u003e last x element \u003d last b / last element on diagonal\n    sol[n - 1][0] \u003d z[n - 1][0] / LU[n - 1][n - 1]\n    \n    for i in reversed(range(0, n)):\n        for j in reversed(range(n - 1, i)):\n            sol[i][0] +\u003d sol[j][0] * LU[i][j]\n        sol[i][0] -\u003d z[i][0]\n        sol[i][0] /\u003d LU[i][i]\n    return sol\n    \n\ndef solve_LU(LU: np.ndarray, b: np.ndarray):\n    z \u003d solve_L(LU, b)\n    x \u003d solve_U(LU, z)\n    return x\n    \n\n",
      "metadata": {
        "pycharm": {
          "metadata": false,
          "name": "#%%\n",
          "is_executing": false
        }
      }
    },
    {
      "cell_type": "markdown",
      "source": "**LU Factorization method testing**\n            ",
      "metadata": {
        "pycharm": {
          "metadata": false,
          "name": "#%% md\n"
        }
      }
    },
    {
      "cell_type": "code",
      "execution_count": 26,
      "outputs": [
        {
          "name": "stdout",
          "text": [
            "Residue vector norm value:  2.961331983157327\n"
          ],
          "output_type": "stream"
        }
      ],
      "source": "init_c_exercise()\ngenerate_equation_system()\nAc \u003d A.copy()\n\ndecompose_matrix_in_place(Ac)\nxc \u003d solve_LU(Ac, B)\n\nprint(\"Residue vector norm value: \", calculate_residue_vector_norm(A, xc, B))\n#todo: pg 27 wyklad 2 numeryczne\n",
      "metadata": {
        "pycharm": {
          "metadata": false,
          "name": "#%%\n",
          "is_executing": false
        }
      }
    }
  ],
  "metadata": {
    "language_info": {
      "codemirror_mode": {
        "name": "ipython",
        "version": 2
      },
      "file_extension": ".py",
      "mimetype": "text/x-python",
      "name": "python",
      "nbconvert_exporter": "python",
      "pygments_lexer": "ipython2",
      "version": "2.7.6"
    },
    "kernelspec": {
      "name": "python3",
      "language": "python",
      "display_name": "Python 3"
    }
  },
  "nbformat": 4,
  "nbformat_minor": 0
}